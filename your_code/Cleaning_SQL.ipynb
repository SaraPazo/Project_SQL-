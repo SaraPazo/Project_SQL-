{
 "cells": [
  {
   "cell_type": "markdown",
   "id": "dbff851b",
   "metadata": {},
   "source": [
    "# CLEANING - PROYECTO SQL"
   ]
  },
  {
   "cell_type": "markdown",
   "id": "9a4ccb9a",
   "metadata": {},
   "source": [
    "## TO DO :"
   ]
  },
  {
   "cell_type": "markdown",
   "id": "fcc668ed",
   "metadata": {},
   "source": [
    "**PROCESO DE LIMPIEZA:**"
   ]
  },
  {
   "cell_type": "markdown",
   "id": "34f8c505",
   "metadata": {},
   "source": [
    "a.\tLimpiamos la tabla de **Actor**, que hace referencia al archivo *‘actor.csv’*\n",
    "\n",
    "b.\tLimpiamos la tabla de **Category**, que hace referencia al archivo *‘category.csv’*\n",
    "\n",
    "c.\tLimpiamos la tabla de **Film**, que hace referencia al archivo *‘film.csv’*\n",
    "\n",
    "d.\tLimpiamos la tabla de **Inventory**, que hace referencia al archivo *‘inventory.csv’*\n",
    "\n",
    "e.\tLimpiamos la tabla de **Language**, que hace referencia al archivo *‘language.csv’*\n",
    "\n",
    "f.\tLimpiamos la tabla de **old_HDD** que hace referencia al archivo *‘old_HDD.csv’*\n",
    "\n",
    "g.\tLimpiamos la tabla de **Rental** que hace referencia al archivo *‘rental.csv’*"
   ]
  },
  {
   "cell_type": "markdown",
   "id": "54174843",
   "metadata": {},
   "source": [
    "#### Importamos las librerías que puede nos sean necesarias para empezar con la limpieza."
   ]
  },
  {
   "cell_type": "code",
   "execution_count": 1,
   "id": "74372a43",
   "metadata": {},
   "outputs": [],
   "source": [
    "import pandas as pd\n",
    "import numpy as np\n",
    "import statistics as stats\n",
    "import pandas as pd\n",
    "import numpy as np\n",
    "import statistics as stats\n",
    "\n",
    "import warnings\n",
    "warnings.filterwarnings('ignore')\n",
    "\n",
    "import pylab as plt\n",
    "import seaborn as sns"
   ]
  },
  {
   "cell_type": "markdown",
   "id": "9a84c7e1",
   "metadata": {},
   "source": [
    "#### Importamos ya los archivos .csv para tenerlos todos en el Jupyter "
   ]
  },
  {
   "cell_type": "code",
   "execution_count": 2,
   "id": "661d8045",
   "metadata": {},
   "outputs": [],
   "source": [
    "actor = pd.read_csv('../data/actor.csv', encoding = 'latin1')\n",
    "cat = pd.read_csv('../data/category.csv', encoding = 'latin1')\n",
    "film_df = pd.read_csv('../data/film.csv', encoding = 'latin1')\n",
    "inv = pd.read_csv('../data/inventory.csv', encoding = 'latin1')\n",
    "lang = pd.read_csv('../data/language.csv', encoding = 'latin1')\n",
    "old = pd.read_csv('../data/old_HDD.csv', encoding = 'latin1')\n",
    "rent = pd.read_csv('../data/rental.csv', encoding = 'latin1')"
   ]
  },
  {
   "cell_type": "markdown",
   "id": "f8715378",
   "metadata": {},
   "source": [
    "# Cleaning ACTOR"
   ]
  },
  {
   "cell_type": "markdown",
   "id": "d44429cd",
   "metadata": {},
   "source": [
    "Importamos el dataframe del csv actor.csv\n",
    "\n",
    "Observamos si tiene: \n",
    " - Duplicados\n",
    " - Nulos"
   ]
  },
  {
   "cell_type": "code",
   "execution_count": 3,
   "id": "2929d874",
   "metadata": {},
   "outputs": [
    {
     "data": {
      "text/html": [
       "<div>\n",
       "<style scoped>\n",
       "    .dataframe tbody tr th:only-of-type {\n",
       "        vertical-align: middle;\n",
       "    }\n",
       "\n",
       "    .dataframe tbody tr th {\n",
       "        vertical-align: top;\n",
       "    }\n",
       "\n",
       "    .dataframe thead th {\n",
       "        text-align: right;\n",
       "    }\n",
       "</style>\n",
       "<table border=\"1\" class=\"dataframe\">\n",
       "  <thead>\n",
       "    <tr style=\"text-align: right;\">\n",
       "      <th></th>\n",
       "      <th>actor_id</th>\n",
       "      <th>first_name</th>\n",
       "      <th>last_name</th>\n",
       "      <th>last_update</th>\n",
       "    </tr>\n",
       "  </thead>\n",
       "  <tbody>\n",
       "    <tr>\n",
       "      <th>0</th>\n",
       "      <td>1</td>\n",
       "      <td>PENELOPE</td>\n",
       "      <td>GUINESS</td>\n",
       "      <td>2006-02-15 04:34:33</td>\n",
       "    </tr>\n",
       "    <tr>\n",
       "      <th>1</th>\n",
       "      <td>2</td>\n",
       "      <td>NICK</td>\n",
       "      <td>WAHLBERG</td>\n",
       "      <td>2006-02-15 04:34:33</td>\n",
       "    </tr>\n",
       "    <tr>\n",
       "      <th>2</th>\n",
       "      <td>3</td>\n",
       "      <td>ED</td>\n",
       "      <td>CHASE</td>\n",
       "      <td>2006-02-15 04:34:33</td>\n",
       "    </tr>\n",
       "    <tr>\n",
       "      <th>3</th>\n",
       "      <td>4</td>\n",
       "      <td>JENNIFER</td>\n",
       "      <td>DAVIS</td>\n",
       "      <td>2006-02-15 04:34:33</td>\n",
       "    </tr>\n",
       "    <tr>\n",
       "      <th>4</th>\n",
       "      <td>5</td>\n",
       "      <td>JOHNNY</td>\n",
       "      <td>LOLLOBRIGIDA</td>\n",
       "      <td>2006-02-15 04:34:33</td>\n",
       "    </tr>\n",
       "  </tbody>\n",
       "</table>\n",
       "</div>"
      ],
      "text/plain": [
       "   actor_id first_name     last_name          last_update\n",
       "0         1   PENELOPE       GUINESS  2006-02-15 04:34:33\n",
       "1         2       NICK      WAHLBERG  2006-02-15 04:34:33\n",
       "2         3         ED         CHASE  2006-02-15 04:34:33\n",
       "3         4   JENNIFER         DAVIS  2006-02-15 04:34:33\n",
       "4         5     JOHNNY  LOLLOBRIGIDA  2006-02-15 04:34:33"
      ]
     },
     "execution_count": 3,
     "metadata": {},
     "output_type": "execute_result"
    }
   ],
   "source": [
    "actor.head()"
   ]
  },
  {
   "cell_type": "code",
   "execution_count": 4,
   "id": "f8dc1a85",
   "metadata": {},
   "outputs": [
    {
     "data": {
      "text/plain": [
       "False"
      ]
     },
     "execution_count": 4,
     "metadata": {},
     "output_type": "execute_result"
    }
   ],
   "source": [
    "actor.duplicated().any()"
   ]
  },
  {
   "cell_type": "code",
   "execution_count": 5,
   "id": "7234ef56",
   "metadata": {},
   "outputs": [
    {
     "data": {
      "text/plain": [
       "Index(['actor_id', 'first_name', 'last_name', 'last_update'], dtype='object')"
      ]
     },
     "execution_count": 5,
     "metadata": {},
     "output_type": "execute_result"
    }
   ],
   "source": [
    "actor.columns"
   ]
  },
  {
   "cell_type": "code",
   "execution_count": 6,
   "id": "8bc7f540",
   "metadata": {},
   "outputs": [],
   "source": [
    "actor = actor.rename(columns = {'actor_id': 'Actor_id', 'first_name': 'Name', 'last_name': 'Last_Name', 'last_update': 'Updated'})"
   ]
  },
  {
   "cell_type": "code",
   "execution_count": 7,
   "id": "9756128b",
   "metadata": {},
   "outputs": [
    {
     "data": {
      "text/plain": [
       "Index(['Actor_id', 'Name', 'Last_Name', 'Updated'], dtype='object')"
      ]
     },
     "execution_count": 7,
     "metadata": {},
     "output_type": "execute_result"
    }
   ],
   "source": [
    "actor.columns"
   ]
  },
  {
   "cell_type": "code",
   "execution_count": 8,
   "id": "953eef91",
   "metadata": {},
   "outputs": [
    {
     "data": {
      "text/html": [
       "<div>\n",
       "<style scoped>\n",
       "    .dataframe tbody tr th:only-of-type {\n",
       "        vertical-align: middle;\n",
       "    }\n",
       "\n",
       "    .dataframe tbody tr th {\n",
       "        vertical-align: top;\n",
       "    }\n",
       "\n",
       "    .dataframe thead th {\n",
       "        text-align: right;\n",
       "    }\n",
       "</style>\n",
       "<table border=\"1\" class=\"dataframe\">\n",
       "  <thead>\n",
       "    <tr style=\"text-align: right;\">\n",
       "      <th></th>\n",
       "      <th>Actor_id</th>\n",
       "      <th>Name</th>\n",
       "      <th>Last_Name</th>\n",
       "      <th>Updated</th>\n",
       "    </tr>\n",
       "  </thead>\n",
       "  <tbody>\n",
       "    <tr>\n",
       "      <th>0</th>\n",
       "      <td>1</td>\n",
       "      <td>PENELOPE</td>\n",
       "      <td>GUINESS</td>\n",
       "      <td>2006-02-15 04:34:33</td>\n",
       "    </tr>\n",
       "    <tr>\n",
       "      <th>1</th>\n",
       "      <td>2</td>\n",
       "      <td>NICK</td>\n",
       "      <td>WAHLBERG</td>\n",
       "      <td>2006-02-15 04:34:33</td>\n",
       "    </tr>\n",
       "    <tr>\n",
       "      <th>2</th>\n",
       "      <td>3</td>\n",
       "      <td>ED</td>\n",
       "      <td>CHASE</td>\n",
       "      <td>2006-02-15 04:34:33</td>\n",
       "    </tr>\n",
       "    <tr>\n",
       "      <th>3</th>\n",
       "      <td>4</td>\n",
       "      <td>JENNIFER</td>\n",
       "      <td>DAVIS</td>\n",
       "      <td>2006-02-15 04:34:33</td>\n",
       "    </tr>\n",
       "    <tr>\n",
       "      <th>4</th>\n",
       "      <td>5</td>\n",
       "      <td>JOHNNY</td>\n",
       "      <td>LOLLOBRIGIDA</td>\n",
       "      <td>2006-02-15 04:34:33</td>\n",
       "    </tr>\n",
       "  </tbody>\n",
       "</table>\n",
       "</div>"
      ],
      "text/plain": [
       "   Actor_id      Name     Last_Name              Updated\n",
       "0         1  PENELOPE       GUINESS  2006-02-15 04:34:33\n",
       "1         2      NICK      WAHLBERG  2006-02-15 04:34:33\n",
       "2         3        ED         CHASE  2006-02-15 04:34:33\n",
       "3         4  JENNIFER         DAVIS  2006-02-15 04:34:33\n",
       "4         5    JOHNNY  LOLLOBRIGIDA  2006-02-15 04:34:33"
      ]
     },
     "execution_count": 8,
     "metadata": {},
     "output_type": "execute_result"
    }
   ],
   "source": [
    "actor.head()"
   ]
  },
  {
   "cell_type": "code",
   "execution_count": 9,
   "id": "1cdf62ec",
   "metadata": {},
   "outputs": [
    {
     "data": {
      "text/plain": [
       "False"
      ]
     },
     "execution_count": 9,
     "metadata": {},
     "output_type": "execute_result"
    }
   ],
   "source": [
    "actor['Name'].isnull().any()"
   ]
  },
  {
   "cell_type": "code",
   "execution_count": 10,
   "id": "e9d2ef63",
   "metadata": {},
   "outputs": [
    {
     "data": {
      "text/plain": [
       "False"
      ]
     },
     "execution_count": 10,
     "metadata": {},
     "output_type": "execute_result"
    }
   ],
   "source": [
    "actor['Last_Name'].isnull().any()"
   ]
  },
  {
   "cell_type": "code",
   "execution_count": 11,
   "id": "7d394951",
   "metadata": {},
   "outputs": [
    {
     "data": {
      "text/plain": [
       "200"
      ]
     },
     "execution_count": 11,
     "metadata": {},
     "output_type": "execute_result"
    }
   ],
   "source": [
    "len(actor.Name)"
   ]
  },
  {
   "cell_type": "code",
   "execution_count": 12,
   "id": "85e4671f",
   "metadata": {},
   "outputs": [
    {
     "data": {
      "text/plain": [
       "200"
      ]
     },
     "execution_count": 12,
     "metadata": {},
     "output_type": "execute_result"
    }
   ],
   "source": [
    "len(actor.Last_Name)"
   ]
  },
  {
   "cell_type": "code",
   "execution_count": 13,
   "id": "f885edd3",
   "metadata": {},
   "outputs": [],
   "source": [
    "actor['Name_complete'] = actor['Name'] + ' ' + actor['Last_Name']"
   ]
  },
  {
   "cell_type": "code",
   "execution_count": 14,
   "id": "2ff2d076",
   "metadata": {},
   "outputs": [
    {
     "data": {
      "text/plain": [
       "0       PENELOPE GUINESS\n",
       "1          NICK WAHLBERG\n",
       "2               ED CHASE\n",
       "3         JENNIFER DAVIS\n",
       "4    JOHNNY LOLLOBRIGIDA\n",
       "Name: Name_complete, dtype: object"
      ]
     },
     "execution_count": 14,
     "metadata": {},
     "output_type": "execute_result"
    }
   ],
   "source": [
    "actor['Name_complete'].head()"
   ]
  },
  {
   "cell_type": "code",
   "execution_count": 15,
   "id": "bd1c054d",
   "metadata": {},
   "outputs": [
    {
     "data": {
      "text/html": [
       "<div>\n",
       "<style scoped>\n",
       "    .dataframe tbody tr th:only-of-type {\n",
       "        vertical-align: middle;\n",
       "    }\n",
       "\n",
       "    .dataframe tbody tr th {\n",
       "        vertical-align: top;\n",
       "    }\n",
       "\n",
       "    .dataframe thead th {\n",
       "        text-align: right;\n",
       "    }\n",
       "</style>\n",
       "<table border=\"1\" class=\"dataframe\">\n",
       "  <thead>\n",
       "    <tr style=\"text-align: right;\">\n",
       "      <th></th>\n",
       "      <th>Actor_id</th>\n",
       "      <th>Name</th>\n",
       "      <th>Last_Name</th>\n",
       "      <th>Updated</th>\n",
       "      <th>Name_complete</th>\n",
       "    </tr>\n",
       "  </thead>\n",
       "  <tbody>\n",
       "    <tr>\n",
       "      <th>0</th>\n",
       "      <td>1</td>\n",
       "      <td>PENELOPE</td>\n",
       "      <td>GUINESS</td>\n",
       "      <td>2006-02-15 04:34:33</td>\n",
       "      <td>PENELOPE GUINESS</td>\n",
       "    </tr>\n",
       "    <tr>\n",
       "      <th>1</th>\n",
       "      <td>2</td>\n",
       "      <td>NICK</td>\n",
       "      <td>WAHLBERG</td>\n",
       "      <td>2006-02-15 04:34:33</td>\n",
       "      <td>NICK WAHLBERG</td>\n",
       "    </tr>\n",
       "    <tr>\n",
       "      <th>2</th>\n",
       "      <td>3</td>\n",
       "      <td>ED</td>\n",
       "      <td>CHASE</td>\n",
       "      <td>2006-02-15 04:34:33</td>\n",
       "      <td>ED CHASE</td>\n",
       "    </tr>\n",
       "    <tr>\n",
       "      <th>3</th>\n",
       "      <td>4</td>\n",
       "      <td>JENNIFER</td>\n",
       "      <td>DAVIS</td>\n",
       "      <td>2006-02-15 04:34:33</td>\n",
       "      <td>JENNIFER DAVIS</td>\n",
       "    </tr>\n",
       "    <tr>\n",
       "      <th>4</th>\n",
       "      <td>5</td>\n",
       "      <td>JOHNNY</td>\n",
       "      <td>LOLLOBRIGIDA</td>\n",
       "      <td>2006-02-15 04:34:33</td>\n",
       "      <td>JOHNNY LOLLOBRIGIDA</td>\n",
       "    </tr>\n",
       "  </tbody>\n",
       "</table>\n",
       "</div>"
      ],
      "text/plain": [
       "   Actor_id      Name     Last_Name              Updated        Name_complete\n",
       "0         1  PENELOPE       GUINESS  2006-02-15 04:34:33     PENELOPE GUINESS\n",
       "1         2      NICK      WAHLBERG  2006-02-15 04:34:33        NICK WAHLBERG\n",
       "2         3        ED         CHASE  2006-02-15 04:34:33             ED CHASE\n",
       "3         4  JENNIFER         DAVIS  2006-02-15 04:34:33       JENNIFER DAVIS\n",
       "4         5    JOHNNY  LOLLOBRIGIDA  2006-02-15 04:34:33  JOHNNY LOLLOBRIGIDA"
      ]
     },
     "execution_count": 15,
     "metadata": {},
     "output_type": "execute_result"
    }
   ],
   "source": [
    "actor.head()"
   ]
  },
  {
   "cell_type": "code",
   "execution_count": 16,
   "id": "452cb8d9",
   "metadata": {},
   "outputs": [
    {
     "data": {
      "text/plain": [
       "Actor_id         False\n",
       "Name             False\n",
       "Last_Name        False\n",
       "Updated          False\n",
       "Name_complete    False\n",
       "dtype: bool"
      ]
     },
     "execution_count": 16,
     "metadata": {},
     "output_type": "execute_result"
    }
   ],
   "source": [
    "actor.isnull().any()"
   ]
  },
  {
   "cell_type": "code",
   "execution_count": 17,
   "id": "6dd96569",
   "metadata": {},
   "outputs": [
    {
     "data": {
      "text/plain": [
       "200"
      ]
     },
     "execution_count": 17,
     "metadata": {},
     "output_type": "execute_result"
    }
   ],
   "source": [
    "len(actor.Name_complete)"
   ]
  },
  {
   "cell_type": "markdown",
   "id": "badf2cf1",
   "metadata": {},
   "source": [
    "- Ahora que he creado una nueva columna con el nombre completo de los actores, voy a eliminar las columnas de 'Name' y 'Last_Name'"
   ]
  },
  {
   "cell_type": "code",
   "execution_count": 18,
   "id": "1a26b516",
   "metadata": {},
   "outputs": [],
   "source": [
    "actor = actor.drop(['Name', 'Last_Name'], axis=1)"
   ]
  },
  {
   "cell_type": "code",
   "execution_count": 19,
   "id": "2165ee2a",
   "metadata": {},
   "outputs": [
    {
     "data": {
      "text/html": [
       "<div>\n",
       "<style scoped>\n",
       "    .dataframe tbody tr th:only-of-type {\n",
       "        vertical-align: middle;\n",
       "    }\n",
       "\n",
       "    .dataframe tbody tr th {\n",
       "        vertical-align: top;\n",
       "    }\n",
       "\n",
       "    .dataframe thead th {\n",
       "        text-align: right;\n",
       "    }\n",
       "</style>\n",
       "<table border=\"1\" class=\"dataframe\">\n",
       "  <thead>\n",
       "    <tr style=\"text-align: right;\">\n",
       "      <th></th>\n",
       "      <th>Actor_id</th>\n",
       "      <th>Updated</th>\n",
       "      <th>Name_complete</th>\n",
       "    </tr>\n",
       "  </thead>\n",
       "  <tbody>\n",
       "    <tr>\n",
       "      <th>0</th>\n",
       "      <td>1</td>\n",
       "      <td>2006-02-15 04:34:33</td>\n",
       "      <td>PENELOPE GUINESS</td>\n",
       "    </tr>\n",
       "    <tr>\n",
       "      <th>1</th>\n",
       "      <td>2</td>\n",
       "      <td>2006-02-15 04:34:33</td>\n",
       "      <td>NICK WAHLBERG</td>\n",
       "    </tr>\n",
       "    <tr>\n",
       "      <th>2</th>\n",
       "      <td>3</td>\n",
       "      <td>2006-02-15 04:34:33</td>\n",
       "      <td>ED CHASE</td>\n",
       "    </tr>\n",
       "    <tr>\n",
       "      <th>3</th>\n",
       "      <td>4</td>\n",
       "      <td>2006-02-15 04:34:33</td>\n",
       "      <td>JENNIFER DAVIS</td>\n",
       "    </tr>\n",
       "    <tr>\n",
       "      <th>4</th>\n",
       "      <td>5</td>\n",
       "      <td>2006-02-15 04:34:33</td>\n",
       "      <td>JOHNNY LOLLOBRIGIDA</td>\n",
       "    </tr>\n",
       "  </tbody>\n",
       "</table>\n",
       "</div>"
      ],
      "text/plain": [
       "   Actor_id              Updated        Name_complete\n",
       "0         1  2006-02-15 04:34:33     PENELOPE GUINESS\n",
       "1         2  2006-02-15 04:34:33        NICK WAHLBERG\n",
       "2         3  2006-02-15 04:34:33             ED CHASE\n",
       "3         4  2006-02-15 04:34:33       JENNIFER DAVIS\n",
       "4         5  2006-02-15 04:34:33  JOHNNY LOLLOBRIGIDA"
      ]
     },
     "execution_count": 19,
     "metadata": {},
     "output_type": "execute_result"
    }
   ],
   "source": [
    "actor.head()"
   ]
  },
  {
   "cell_type": "code",
   "execution_count": 20,
   "id": "6b1a9117",
   "metadata": {
    "scrolled": true
   },
   "outputs": [
    {
     "data": {
      "text/plain": [
       "Name_complete\n",
       "SUSAN DAVIS             2\n",
       "EWAN GOODING            1\n",
       "DARYL CRAWFORD          1\n",
       "GRETA KEITEL            1\n",
       "JANE JACKMAN            1\n",
       "                       ..\n",
       "MICHELLE MCCONAUGHEY    1\n",
       "ADAM GRANT              1\n",
       "SEAN WILLIAMS           1\n",
       "GARY PENN               1\n",
       "THORA TEMPLE            1\n",
       "Name: count, Length: 199, dtype: int64"
      ]
     },
     "execution_count": 20,
     "metadata": {},
     "output_type": "execute_result"
    }
   ],
   "source": [
    "actor['Name_complete'].value_counts()"
   ]
  },
  {
   "cell_type": "code",
   "execution_count": 21,
   "id": "6f5e6e04",
   "metadata": {},
   "outputs": [],
   "source": [
    "\n",
    "# vemos que SUSAN DAVIS está duplicado\n",
    "\n",
    "# vamos a eliminar este valor duplicado para que no nos de problemas posteriormente. \n",
    "\n",
    "# veo que puedo eliminar la fila donde está el Nombre duplicado, ya que no está el 'Autor_id' en ningún otro DF. \n"
   ]
  },
  {
   "cell_type": "code",
   "execution_count": 22,
   "id": "4f2a7f91",
   "metadata": {},
   "outputs": [
    {
     "data": {
      "text/html": [
       "<div>\n",
       "<style scoped>\n",
       "    .dataframe tbody tr th:only-of-type {\n",
       "        vertical-align: middle;\n",
       "    }\n",
       "\n",
       "    .dataframe tbody tr th {\n",
       "        vertical-align: top;\n",
       "    }\n",
       "\n",
       "    .dataframe thead th {\n",
       "        text-align: right;\n",
       "    }\n",
       "</style>\n",
       "<table border=\"1\" class=\"dataframe\">\n",
       "  <thead>\n",
       "    <tr style=\"text-align: right;\">\n",
       "      <th></th>\n",
       "      <th>Actor_id</th>\n",
       "      <th>Updated</th>\n",
       "      <th>Name_complete</th>\n",
       "    </tr>\n",
       "  </thead>\n",
       "  <tbody>\n",
       "    <tr>\n",
       "      <th>109</th>\n",
       "      <td>110</td>\n",
       "      <td>2006-02-15 04:34:33</td>\n",
       "      <td>SUSAN DAVIS</td>\n",
       "    </tr>\n",
       "  </tbody>\n",
       "</table>\n",
       "</div>"
      ],
      "text/plain": [
       "     Actor_id              Updated Name_complete\n",
       "109       110  2006-02-15 04:34:33   SUSAN DAVIS"
      ]
     },
     "execution_count": 22,
     "metadata": {},
     "output_type": "execute_result"
    }
   ],
   "source": [
    "actor_dup = actor[actor.duplicated(subset=['Name_complete'], keep='first')]\n",
    "actor_dup"
   ]
  },
  {
   "cell_type": "code",
   "execution_count": 23,
   "id": "11ce58ea",
   "metadata": {},
   "outputs": [],
   "source": [
    "actor = actor.drop_duplicates(subset=['Name_complete'], keep='first')"
   ]
  },
  {
   "cell_type": "code",
   "execution_count": 24,
   "id": "01d43018",
   "metadata": {},
   "outputs": [],
   "source": [
    "\n",
    "# una vez que elimino la fila duplicada ya solamente quedan 199\n"
   ]
  },
  {
   "cell_type": "code",
   "execution_count": 25,
   "id": "f6594f24",
   "metadata": {},
   "outputs": [
    {
     "data": {
      "text/html": [
       "<div>\n",
       "<style scoped>\n",
       "    .dataframe tbody tr th:only-of-type {\n",
       "        vertical-align: middle;\n",
       "    }\n",
       "\n",
       "    .dataframe tbody tr th {\n",
       "        vertical-align: top;\n",
       "    }\n",
       "\n",
       "    .dataframe thead th {\n",
       "        text-align: right;\n",
       "    }\n",
       "</style>\n",
       "<table border=\"1\" class=\"dataframe\">\n",
       "  <thead>\n",
       "    <tr style=\"text-align: right;\">\n",
       "      <th></th>\n",
       "      <th>Actor_id</th>\n",
       "      <th>Updated</th>\n",
       "      <th>Name_complete</th>\n",
       "    </tr>\n",
       "  </thead>\n",
       "  <tbody>\n",
       "  </tbody>\n",
       "</table>\n",
       "</div>"
      ],
      "text/plain": [
       "Empty DataFrame\n",
       "Columns: [Actor_id, Updated, Name_complete]\n",
       "Index: []"
      ]
     },
     "execution_count": 25,
     "metadata": {},
     "output_type": "execute_result"
    }
   ],
   "source": [
    "actor_dup = actor[actor.duplicated(subset=['Name_complete'], keep='first')]\n",
    "actor_dup"
   ]
  },
  {
   "cell_type": "code",
   "execution_count": 26,
   "id": "795c6fcf",
   "metadata": {},
   "outputs": [
    {
     "data": {
      "text/plain": [
       "Name_complete\n",
       "False    199\n",
       "Name: count, dtype: int64"
      ]
     },
     "execution_count": 26,
     "metadata": {},
     "output_type": "execute_result"
    }
   ],
   "source": [
    "actor['Name_complete'].duplicated().value_counts()"
   ]
  },
  {
   "cell_type": "code",
   "execution_count": 27,
   "id": "a2f3ce8a",
   "metadata": {},
   "outputs": [],
   "source": [
    "actor['Actor_id']=range(1,len(actor)+1)\n",
    "actor.reset_index(drop=True, inplace=True)"
   ]
  },
  {
   "cell_type": "code",
   "execution_count": 28,
   "id": "8f8772cf",
   "metadata": {},
   "outputs": [],
   "source": [
    "#pd.set_option('display.max_rows', None)"
   ]
  },
  {
   "cell_type": "code",
   "execution_count": 128,
   "id": "62112337",
   "metadata": {},
   "outputs": [
    {
     "data": {
      "text/html": [
       "<div>\n",
       "<style scoped>\n",
       "    .dataframe tbody tr th:only-of-type {\n",
       "        vertical-align: middle;\n",
       "    }\n",
       "\n",
       "    .dataframe tbody tr th {\n",
       "        vertical-align: top;\n",
       "    }\n",
       "\n",
       "    .dataframe thead th {\n",
       "        text-align: right;\n",
       "    }\n",
       "</style>\n",
       "<table border=\"1\" class=\"dataframe\">\n",
       "  <thead>\n",
       "    <tr style=\"text-align: right;\">\n",
       "      <th></th>\n",
       "      <th>Actor_id</th>\n",
       "      <th>Name_complete</th>\n",
       "      <th>Date</th>\n",
       "    </tr>\n",
       "  </thead>\n",
       "  <tbody>\n",
       "    <tr>\n",
       "      <th>194</th>\n",
       "      <td>195</td>\n",
       "      <td>BELA WALKEN</td>\n",
       "      <td>2006-02-15</td>\n",
       "    </tr>\n",
       "    <tr>\n",
       "      <th>195</th>\n",
       "      <td>196</td>\n",
       "      <td>REESE WEST</td>\n",
       "      <td>2006-02-15</td>\n",
       "    </tr>\n",
       "    <tr>\n",
       "      <th>196</th>\n",
       "      <td>197</td>\n",
       "      <td>MARY KEITEL</td>\n",
       "      <td>2006-02-15</td>\n",
       "    </tr>\n",
       "    <tr>\n",
       "      <th>197</th>\n",
       "      <td>198</td>\n",
       "      <td>JULIA FAWCETT</td>\n",
       "      <td>2006-02-15</td>\n",
       "    </tr>\n",
       "    <tr>\n",
       "      <th>198</th>\n",
       "      <td>199</td>\n",
       "      <td>THORA TEMPLE</td>\n",
       "      <td>2006-02-15</td>\n",
       "    </tr>\n",
       "  </tbody>\n",
       "</table>\n",
       "</div>"
      ],
      "text/plain": [
       "     Actor_id  Name_complete        Date\n",
       "194       195    BELA WALKEN  2006-02-15\n",
       "195       196     REESE WEST  2006-02-15\n",
       "196       197    MARY KEITEL  2006-02-15\n",
       "197       198  JULIA FAWCETT  2006-02-15\n",
       "198       199   THORA TEMPLE  2006-02-15"
      ]
     },
     "execution_count": 128,
     "metadata": {},
     "output_type": "execute_result"
    }
   ],
   "source": [
    "actor.tail()"
   ]
  },
  {
   "cell_type": "markdown",
   "id": "7fb37d22",
   "metadata": {},
   "source": [
    "- La columna de Updated no la voy a eliminar, sino que voy a convertirla en una columna, unicamente con la fecha."
   ]
  },
  {
   "cell_type": "code",
   "execution_count": 30,
   "id": "e7fc58c3",
   "metadata": {},
   "outputs": [
    {
     "data": {
      "text/plain": [
       "str"
      ]
     },
     "execution_count": 30,
     "metadata": {},
     "output_type": "execute_result"
    }
   ],
   "source": [
    "type('Updated')"
   ]
  },
  {
   "cell_type": "code",
   "execution_count": 31,
   "id": "bdc659a0",
   "metadata": {},
   "outputs": [],
   "source": [
    "actor['Updated'] = pd.to_datetime(actor['Updated'])"
   ]
  },
  {
   "cell_type": "code",
   "execution_count": 32,
   "id": "4deb2443",
   "metadata": {},
   "outputs": [],
   "source": [
    "actor['Date'] = actor['Updated'].dt.date\n",
    "actor['Time'] = actor['Updated'].dt.time"
   ]
  },
  {
   "cell_type": "code",
   "execution_count": 33,
   "id": "5af06052",
   "metadata": {},
   "outputs": [],
   "source": [
    "actor = actor.drop(['Updated', 'Time'], axis=1)"
   ]
  },
  {
   "cell_type": "code",
   "execution_count": 34,
   "id": "5146b034",
   "metadata": {},
   "outputs": [
    {
     "data": {
      "text/html": [
       "<div>\n",
       "<style scoped>\n",
       "    .dataframe tbody tr th:only-of-type {\n",
       "        vertical-align: middle;\n",
       "    }\n",
       "\n",
       "    .dataframe tbody tr th {\n",
       "        vertical-align: top;\n",
       "    }\n",
       "\n",
       "    .dataframe thead th {\n",
       "        text-align: right;\n",
       "    }\n",
       "</style>\n",
       "<table border=\"1\" class=\"dataframe\">\n",
       "  <thead>\n",
       "    <tr style=\"text-align: right;\">\n",
       "      <th></th>\n",
       "      <th>Actor_id</th>\n",
       "      <th>Name_complete</th>\n",
       "      <th>Date</th>\n",
       "    </tr>\n",
       "  </thead>\n",
       "  <tbody>\n",
       "    <tr>\n",
       "      <th>0</th>\n",
       "      <td>1</td>\n",
       "      <td>PENELOPE GUINESS</td>\n",
       "      <td>2006-02-15</td>\n",
       "    </tr>\n",
       "    <tr>\n",
       "      <th>1</th>\n",
       "      <td>2</td>\n",
       "      <td>NICK WAHLBERG</td>\n",
       "      <td>2006-02-15</td>\n",
       "    </tr>\n",
       "    <tr>\n",
       "      <th>2</th>\n",
       "      <td>3</td>\n",
       "      <td>ED CHASE</td>\n",
       "      <td>2006-02-15</td>\n",
       "    </tr>\n",
       "    <tr>\n",
       "      <th>3</th>\n",
       "      <td>4</td>\n",
       "      <td>JENNIFER DAVIS</td>\n",
       "      <td>2006-02-15</td>\n",
       "    </tr>\n",
       "    <tr>\n",
       "      <th>4</th>\n",
       "      <td>5</td>\n",
       "      <td>JOHNNY LOLLOBRIGIDA</td>\n",
       "      <td>2006-02-15</td>\n",
       "    </tr>\n",
       "  </tbody>\n",
       "</table>\n",
       "</div>"
      ],
      "text/plain": [
       "   Actor_id        Name_complete        Date\n",
       "0         1     PENELOPE GUINESS  2006-02-15\n",
       "1         2        NICK WAHLBERG  2006-02-15\n",
       "2         3             ED CHASE  2006-02-15\n",
       "3         4       JENNIFER DAVIS  2006-02-15\n",
       "4         5  JOHNNY LOLLOBRIGIDA  2006-02-15"
      ]
     },
     "execution_count": 34,
     "metadata": {},
     "output_type": "execute_result"
    }
   ],
   "source": [
    "actor.head()"
   ]
  },
  {
   "cell_type": "markdown",
   "id": "7ff41806",
   "metadata": {},
   "source": [
    "# Cleaning CATEGORY"
   ]
  },
  {
   "cell_type": "markdown",
   "id": "b4837f12",
   "metadata": {},
   "source": [
    "Importamos el dataframe del csv category.csv\n",
    "\n",
    "Observamos si tiene: \n",
    " - Duplicados\n",
    " - Nulos"
   ]
  },
  {
   "cell_type": "code",
   "execution_count": 35,
   "id": "a6019e3e",
   "metadata": {},
   "outputs": [
    {
     "data": {
      "text/html": [
       "<div>\n",
       "<style scoped>\n",
       "    .dataframe tbody tr th:only-of-type {\n",
       "        vertical-align: middle;\n",
       "    }\n",
       "\n",
       "    .dataframe tbody tr th {\n",
       "        vertical-align: top;\n",
       "    }\n",
       "\n",
       "    .dataframe thead th {\n",
       "        text-align: right;\n",
       "    }\n",
       "</style>\n",
       "<table border=\"1\" class=\"dataframe\">\n",
       "  <thead>\n",
       "    <tr style=\"text-align: right;\">\n",
       "      <th></th>\n",
       "      <th>category_id</th>\n",
       "      <th>name</th>\n",
       "      <th>last_update</th>\n",
       "    </tr>\n",
       "  </thead>\n",
       "  <tbody>\n",
       "    <tr>\n",
       "      <th>0</th>\n",
       "      <td>1</td>\n",
       "      <td>Action</td>\n",
       "      <td>2006-02-15 04:46:27</td>\n",
       "    </tr>\n",
       "    <tr>\n",
       "      <th>1</th>\n",
       "      <td>2</td>\n",
       "      <td>Animation</td>\n",
       "      <td>2006-02-15 04:46:27</td>\n",
       "    </tr>\n",
       "    <tr>\n",
       "      <th>2</th>\n",
       "      <td>3</td>\n",
       "      <td>Children</td>\n",
       "      <td>2006-02-15 04:46:27</td>\n",
       "    </tr>\n",
       "    <tr>\n",
       "      <th>3</th>\n",
       "      <td>4</td>\n",
       "      <td>Classics</td>\n",
       "      <td>2006-02-15 04:46:27</td>\n",
       "    </tr>\n",
       "    <tr>\n",
       "      <th>4</th>\n",
       "      <td>5</td>\n",
       "      <td>Comedy</td>\n",
       "      <td>2006-02-15 04:46:27</td>\n",
       "    </tr>\n",
       "    <tr>\n",
       "      <th>5</th>\n",
       "      <td>6</td>\n",
       "      <td>Documentary</td>\n",
       "      <td>2006-02-15 04:46:27</td>\n",
       "    </tr>\n",
       "    <tr>\n",
       "      <th>6</th>\n",
       "      <td>7</td>\n",
       "      <td>Drama</td>\n",
       "      <td>2006-02-15 04:46:27</td>\n",
       "    </tr>\n",
       "    <tr>\n",
       "      <th>7</th>\n",
       "      <td>8</td>\n",
       "      <td>Family</td>\n",
       "      <td>2006-02-15 04:46:27</td>\n",
       "    </tr>\n",
       "    <tr>\n",
       "      <th>8</th>\n",
       "      <td>9</td>\n",
       "      <td>Foreign</td>\n",
       "      <td>2006-02-15 04:46:27</td>\n",
       "    </tr>\n",
       "    <tr>\n",
       "      <th>9</th>\n",
       "      <td>10</td>\n",
       "      <td>Games</td>\n",
       "      <td>2006-02-15 04:46:27</td>\n",
       "    </tr>\n",
       "    <tr>\n",
       "      <th>10</th>\n",
       "      <td>11</td>\n",
       "      <td>Horror</td>\n",
       "      <td>2006-02-15 04:46:27</td>\n",
       "    </tr>\n",
       "    <tr>\n",
       "      <th>11</th>\n",
       "      <td>12</td>\n",
       "      <td>Music</td>\n",
       "      <td>2006-02-15 04:46:27</td>\n",
       "    </tr>\n",
       "    <tr>\n",
       "      <th>12</th>\n",
       "      <td>13</td>\n",
       "      <td>New</td>\n",
       "      <td>2006-02-15 04:46:27</td>\n",
       "    </tr>\n",
       "    <tr>\n",
       "      <th>13</th>\n",
       "      <td>14</td>\n",
       "      <td>Sci-Fi</td>\n",
       "      <td>2006-02-15 04:46:27</td>\n",
       "    </tr>\n",
       "    <tr>\n",
       "      <th>14</th>\n",
       "      <td>15</td>\n",
       "      <td>Sports</td>\n",
       "      <td>2006-02-15 04:46:27</td>\n",
       "    </tr>\n",
       "    <tr>\n",
       "      <th>15</th>\n",
       "      <td>16</td>\n",
       "      <td>Travel</td>\n",
       "      <td>2006-02-15 04:46:27</td>\n",
       "    </tr>\n",
       "  </tbody>\n",
       "</table>\n",
       "</div>"
      ],
      "text/plain": [
       "    category_id         name          last_update\n",
       "0             1       Action  2006-02-15 04:46:27\n",
       "1             2    Animation  2006-02-15 04:46:27\n",
       "2             3     Children  2006-02-15 04:46:27\n",
       "3             4     Classics  2006-02-15 04:46:27\n",
       "4             5       Comedy  2006-02-15 04:46:27\n",
       "5             6  Documentary  2006-02-15 04:46:27\n",
       "6             7        Drama  2006-02-15 04:46:27\n",
       "7             8       Family  2006-02-15 04:46:27\n",
       "8             9      Foreign  2006-02-15 04:46:27\n",
       "9            10        Games  2006-02-15 04:46:27\n",
       "10           11       Horror  2006-02-15 04:46:27\n",
       "11           12        Music  2006-02-15 04:46:27\n",
       "12           13          New  2006-02-15 04:46:27\n",
       "13           14       Sci-Fi  2006-02-15 04:46:27\n",
       "14           15       Sports  2006-02-15 04:46:27\n",
       "15           16       Travel  2006-02-15 04:46:27"
      ]
     },
     "execution_count": 35,
     "metadata": {},
     "output_type": "execute_result"
    }
   ],
   "source": [
    "cat"
   ]
  },
  {
   "cell_type": "code",
   "execution_count": 36,
   "id": "259f4882",
   "metadata": {},
   "outputs": [
    {
     "data": {
      "text/plain": [
       "category_id    False\n",
       "name           False\n",
       "last_update    False\n",
       "dtype: bool"
      ]
     },
     "execution_count": 36,
     "metadata": {},
     "output_type": "execute_result"
    }
   ],
   "source": [
    "cat.isnull().any()"
   ]
  },
  {
   "cell_type": "code",
   "execution_count": 37,
   "id": "10cd0116",
   "metadata": {},
   "outputs": [
    {
     "data": {
      "text/plain": [
       "False"
      ]
     },
     "execution_count": 37,
     "metadata": {},
     "output_type": "execute_result"
    }
   ],
   "source": [
    "cat.duplicated().any()"
   ]
  },
  {
   "cell_type": "code",
   "execution_count": 38,
   "id": "6f934535",
   "metadata": {},
   "outputs": [],
   "source": [
    "cat = cat.drop(['last_update'], axis=1)"
   ]
  },
  {
   "cell_type": "code",
   "execution_count": 39,
   "id": "198acbcc",
   "metadata": {},
   "outputs": [
    {
     "data": {
      "text/html": [
       "<div>\n",
       "<style scoped>\n",
       "    .dataframe tbody tr th:only-of-type {\n",
       "        vertical-align: middle;\n",
       "    }\n",
       "\n",
       "    .dataframe tbody tr th {\n",
       "        vertical-align: top;\n",
       "    }\n",
       "\n",
       "    .dataframe thead th {\n",
       "        text-align: right;\n",
       "    }\n",
       "</style>\n",
       "<table border=\"1\" class=\"dataframe\">\n",
       "  <thead>\n",
       "    <tr style=\"text-align: right;\">\n",
       "      <th></th>\n",
       "      <th>category_id</th>\n",
       "      <th>name</th>\n",
       "    </tr>\n",
       "  </thead>\n",
       "  <tbody>\n",
       "    <tr>\n",
       "      <th>0</th>\n",
       "      <td>1</td>\n",
       "      <td>Action</td>\n",
       "    </tr>\n",
       "    <tr>\n",
       "      <th>1</th>\n",
       "      <td>2</td>\n",
       "      <td>Animation</td>\n",
       "    </tr>\n",
       "    <tr>\n",
       "      <th>2</th>\n",
       "      <td>3</td>\n",
       "      <td>Children</td>\n",
       "    </tr>\n",
       "    <tr>\n",
       "      <th>3</th>\n",
       "      <td>4</td>\n",
       "      <td>Classics</td>\n",
       "    </tr>\n",
       "    <tr>\n",
       "      <th>4</th>\n",
       "      <td>5</td>\n",
       "      <td>Comedy</td>\n",
       "    </tr>\n",
       "  </tbody>\n",
       "</table>\n",
       "</div>"
      ],
      "text/plain": [
       "   category_id       name\n",
       "0            1     Action\n",
       "1            2  Animation\n",
       "2            3   Children\n",
       "3            4   Classics\n",
       "4            5     Comedy"
      ]
     },
     "execution_count": 39,
     "metadata": {},
     "output_type": "execute_result"
    }
   ],
   "source": [
    "cat.head()"
   ]
  },
  {
   "cell_type": "code",
   "execution_count": 40,
   "id": "06249c7a",
   "metadata": {},
   "outputs": [],
   "source": [
    "cat = cat.rename(columns = {'name': 'Category'})"
   ]
  },
  {
   "cell_type": "code",
   "execution_count": 41,
   "id": "5f0cdb25",
   "metadata": {},
   "outputs": [
    {
     "data": {
      "text/html": [
       "<div>\n",
       "<style scoped>\n",
       "    .dataframe tbody tr th:only-of-type {\n",
       "        vertical-align: middle;\n",
       "    }\n",
       "\n",
       "    .dataframe tbody tr th {\n",
       "        vertical-align: top;\n",
       "    }\n",
       "\n",
       "    .dataframe thead th {\n",
       "        text-align: right;\n",
       "    }\n",
       "</style>\n",
       "<table border=\"1\" class=\"dataframe\">\n",
       "  <thead>\n",
       "    <tr style=\"text-align: right;\">\n",
       "      <th></th>\n",
       "      <th>category_id</th>\n",
       "      <th>Category</th>\n",
       "    </tr>\n",
       "  </thead>\n",
       "  <tbody>\n",
       "    <tr>\n",
       "      <th>0</th>\n",
       "      <td>1</td>\n",
       "      <td>Action</td>\n",
       "    </tr>\n",
       "    <tr>\n",
       "      <th>1</th>\n",
       "      <td>2</td>\n",
       "      <td>Animation</td>\n",
       "    </tr>\n",
       "    <tr>\n",
       "      <th>2</th>\n",
       "      <td>3</td>\n",
       "      <td>Children</td>\n",
       "    </tr>\n",
       "    <tr>\n",
       "      <th>3</th>\n",
       "      <td>4</td>\n",
       "      <td>Classics</td>\n",
       "    </tr>\n",
       "    <tr>\n",
       "      <th>4</th>\n",
       "      <td>5</td>\n",
       "      <td>Comedy</td>\n",
       "    </tr>\n",
       "  </tbody>\n",
       "</table>\n",
       "</div>"
      ],
      "text/plain": [
       "   category_id   Category\n",
       "0            1     Action\n",
       "1            2  Animation\n",
       "2            3   Children\n",
       "3            4   Classics\n",
       "4            5     Comedy"
      ]
     },
     "execution_count": 41,
     "metadata": {},
     "output_type": "execute_result"
    }
   ],
   "source": [
    "cat.head()"
   ]
  },
  {
   "cell_type": "markdown",
   "id": "435e7a14",
   "metadata": {},
   "source": [
    "# Cleaning FILM"
   ]
  },
  {
   "cell_type": "markdown",
   "id": "441c3288",
   "metadata": {},
   "source": [
    "Importamos el dataframe del csv film.csv\n",
    "\n",
    "Observamos si tiene: \n",
    " - Duplicados\n",
    " - Nulos"
   ]
  },
  {
   "cell_type": "code",
   "execution_count": 42,
   "id": "2698b434",
   "metadata": {},
   "outputs": [
    {
     "data": {
      "text/html": [
       "<div>\n",
       "<style scoped>\n",
       "    .dataframe tbody tr th:only-of-type {\n",
       "        vertical-align: middle;\n",
       "    }\n",
       "\n",
       "    .dataframe tbody tr th {\n",
       "        vertical-align: top;\n",
       "    }\n",
       "\n",
       "    .dataframe thead th {\n",
       "        text-align: right;\n",
       "    }\n",
       "</style>\n",
       "<table border=\"1\" class=\"dataframe\">\n",
       "  <thead>\n",
       "    <tr style=\"text-align: right;\">\n",
       "      <th></th>\n",
       "      <th>film_id</th>\n",
       "      <th>title</th>\n",
       "      <th>description</th>\n",
       "      <th>release_year</th>\n",
       "      <th>language_id</th>\n",
       "      <th>original_language_id</th>\n",
       "      <th>rental_duration</th>\n",
       "      <th>rental_rate</th>\n",
       "      <th>length</th>\n",
       "      <th>replacement_cost</th>\n",
       "      <th>rating</th>\n",
       "      <th>special_features</th>\n",
       "      <th>last_update</th>\n",
       "    </tr>\n",
       "  </thead>\n",
       "  <tbody>\n",
       "    <tr>\n",
       "      <th>0</th>\n",
       "      <td>1</td>\n",
       "      <td>ACADEMY DINOSAUR</td>\n",
       "      <td>A Epic Drama of a Feminist And a Mad Scientist...</td>\n",
       "      <td>2006</td>\n",
       "      <td>1</td>\n",
       "      <td>NaN</td>\n",
       "      <td>6</td>\n",
       "      <td>0.99</td>\n",
       "      <td>86</td>\n",
       "      <td>20.99</td>\n",
       "      <td>PG</td>\n",
       "      <td>Deleted Scenes,Behind the Scenes</td>\n",
       "      <td>2006-02-15 05:03:42</td>\n",
       "    </tr>\n",
       "    <tr>\n",
       "      <th>1</th>\n",
       "      <td>2</td>\n",
       "      <td>ACE GOLDFINGER</td>\n",
       "      <td>A Astounding Epistle of a Database Administrat...</td>\n",
       "      <td>2006</td>\n",
       "      <td>1</td>\n",
       "      <td>NaN</td>\n",
       "      <td>3</td>\n",
       "      <td>4.99</td>\n",
       "      <td>48</td>\n",
       "      <td>12.99</td>\n",
       "      <td>G</td>\n",
       "      <td>Trailers,Deleted Scenes</td>\n",
       "      <td>2006-02-15 05:03:42</td>\n",
       "    </tr>\n",
       "    <tr>\n",
       "      <th>2</th>\n",
       "      <td>3</td>\n",
       "      <td>ADAPTATION HOLES</td>\n",
       "      <td>A Astounding Reflection of a Lumberjack And a ...</td>\n",
       "      <td>2006</td>\n",
       "      <td>1</td>\n",
       "      <td>NaN</td>\n",
       "      <td>7</td>\n",
       "      <td>2.99</td>\n",
       "      <td>50</td>\n",
       "      <td>18.99</td>\n",
       "      <td>NC-17</td>\n",
       "      <td>Trailers,Deleted Scenes</td>\n",
       "      <td>2006-02-15 05:03:42</td>\n",
       "    </tr>\n",
       "    <tr>\n",
       "      <th>3</th>\n",
       "      <td>4</td>\n",
       "      <td>AFFAIR PREJUDICE</td>\n",
       "      <td>A Fanciful Documentary of a Frisbee And a Lumb...</td>\n",
       "      <td>2006</td>\n",
       "      <td>1</td>\n",
       "      <td>NaN</td>\n",
       "      <td>5</td>\n",
       "      <td>2.99</td>\n",
       "      <td>117</td>\n",
       "      <td>26.99</td>\n",
       "      <td>G</td>\n",
       "      <td>Commentaries,Behind the Scenes</td>\n",
       "      <td>2006-02-15 05:03:42</td>\n",
       "    </tr>\n",
       "    <tr>\n",
       "      <th>4</th>\n",
       "      <td>5</td>\n",
       "      <td>AFRICAN EGG</td>\n",
       "      <td>A Fast-Paced Documentary of a Pastry Chef And ...</td>\n",
       "      <td>2006</td>\n",
       "      <td>1</td>\n",
       "      <td>NaN</td>\n",
       "      <td>6</td>\n",
       "      <td>2.99</td>\n",
       "      <td>130</td>\n",
       "      <td>22.99</td>\n",
       "      <td>G</td>\n",
       "      <td>Deleted Scenes</td>\n",
       "      <td>2006-02-15 05:03:42</td>\n",
       "    </tr>\n",
       "  </tbody>\n",
       "</table>\n",
       "</div>"
      ],
      "text/plain": [
       "   film_id             title  \\\n",
       "0        1  ACADEMY DINOSAUR   \n",
       "1        2    ACE GOLDFINGER   \n",
       "2        3  ADAPTATION HOLES   \n",
       "3        4  AFFAIR PREJUDICE   \n",
       "4        5       AFRICAN EGG   \n",
       "\n",
       "                                         description  release_year  \\\n",
       "0  A Epic Drama of a Feminist And a Mad Scientist...          2006   \n",
       "1  A Astounding Epistle of a Database Administrat...          2006   \n",
       "2  A Astounding Reflection of a Lumberjack And a ...          2006   \n",
       "3  A Fanciful Documentary of a Frisbee And a Lumb...          2006   \n",
       "4  A Fast-Paced Documentary of a Pastry Chef And ...          2006   \n",
       "\n",
       "   language_id  original_language_id  rental_duration  rental_rate  length  \\\n",
       "0            1                   NaN                6         0.99      86   \n",
       "1            1                   NaN                3         4.99      48   \n",
       "2            1                   NaN                7         2.99      50   \n",
       "3            1                   NaN                5         2.99     117   \n",
       "4            1                   NaN                6         2.99     130   \n",
       "\n",
       "   replacement_cost rating                  special_features  \\\n",
       "0             20.99     PG  Deleted Scenes,Behind the Scenes   \n",
       "1             12.99      G           Trailers,Deleted Scenes   \n",
       "2             18.99  NC-17           Trailers,Deleted Scenes   \n",
       "3             26.99      G    Commentaries,Behind the Scenes   \n",
       "4             22.99      G                    Deleted Scenes   \n",
       "\n",
       "           last_update  \n",
       "0  2006-02-15 05:03:42  \n",
       "1  2006-02-15 05:03:42  \n",
       "2  2006-02-15 05:03:42  \n",
       "3  2006-02-15 05:03:42  \n",
       "4  2006-02-15 05:03:42  "
      ]
     },
     "execution_count": 42,
     "metadata": {},
     "output_type": "execute_result"
    }
   ],
   "source": [
    "film_df.head()"
   ]
  },
  {
   "cell_type": "code",
   "execution_count": 43,
   "id": "0ad0e121",
   "metadata": {},
   "outputs": [
    {
     "data": {
      "text/plain": [
       "(1000, 13)"
      ]
     },
     "execution_count": 43,
     "metadata": {},
     "output_type": "execute_result"
    }
   ],
   "source": [
    "film_df.shape"
   ]
  },
  {
   "cell_type": "code",
   "execution_count": 44,
   "id": "b4124b00",
   "metadata": {},
   "outputs": [
    {
     "data": {
      "text/plain": [
       "False"
      ]
     },
     "execution_count": 44,
     "metadata": {},
     "output_type": "execute_result"
    }
   ],
   "source": [
    "film_df.duplicated().any()"
   ]
  },
  {
   "cell_type": "code",
   "execution_count": 45,
   "id": "38818e2b",
   "metadata": {},
   "outputs": [
    {
     "data": {
      "text/plain": [
       "True"
      ]
     },
     "execution_count": 45,
     "metadata": {},
     "output_type": "execute_result"
    }
   ],
   "source": [
    "film_df['language_id'].nunique() == 1"
   ]
  },
  {
   "cell_type": "code",
   "execution_count": 46,
   "id": "3c41a3cd",
   "metadata": {},
   "outputs": [
    {
     "data": {
      "text/plain": [
       "True"
      ]
     },
     "execution_count": 46,
     "metadata": {},
     "output_type": "execute_result"
    }
   ],
   "source": [
    "film_df['release_year'].nunique() == 1"
   ]
  },
  {
   "cell_type": "code",
   "execution_count": 47,
   "id": "09d90a75",
   "metadata": {},
   "outputs": [
    {
     "data": {
      "text/plain": [
       "film_id                 False\n",
       "title                   False\n",
       "description             False\n",
       "release_year            False\n",
       "language_id             False\n",
       "original_language_id     True\n",
       "rental_duration         False\n",
       "rental_rate             False\n",
       "length                  False\n",
       "replacement_cost        False\n",
       "rating                  False\n",
       "special_features        False\n",
       "last_update             False\n",
       "dtype: bool"
      ]
     },
     "execution_count": 47,
     "metadata": {},
     "output_type": "execute_result"
    }
   ],
   "source": [
    "film_df.isnull().any()"
   ]
  },
  {
   "cell_type": "code",
   "execution_count": 48,
   "id": "04dfb846",
   "metadata": {},
   "outputs": [
    {
     "data": {
      "text/plain": [
       "Index(['film_id', 'title', 'description', 'release_year', 'language_id',\n",
       "       'original_language_id', 'rental_duration', 'rental_rate', 'length',\n",
       "       'replacement_cost', 'rating', 'special_features', 'last_update'],\n",
       "      dtype='object')"
      ]
     },
     "execution_count": 48,
     "metadata": {},
     "output_type": "execute_result"
    }
   ],
   "source": [
    "film_df.columns"
   ]
  },
  {
   "cell_type": "code",
   "execution_count": 49,
   "id": "791e14a5",
   "metadata": {},
   "outputs": [
    {
     "data": {
      "text/plain": [
       "True"
      ]
     },
     "execution_count": 49,
     "metadata": {},
     "output_type": "execute_result"
    }
   ],
   "source": [
    "film_df['original_language_id'].isnull().all()"
   ]
  },
  {
   "cell_type": "markdown",
   "id": "cdc4dff5",
   "metadata": {},
   "source": [
    "### Eliminamos nulos y repetidos"
   ]
  },
  {
   "cell_type": "markdown",
   "id": "ef140833",
   "metadata": {},
   "source": [
    "-  Elimino aquellas columnas que tienen valores iguales y repetidos. \n",
    "\n",
    "-  Además, la columna 'original_language_id' tiene todos los valores nulos, por lo que también la eliminamos."
   ]
  },
  {
   "cell_type": "code",
   "execution_count": 50,
   "id": "94981f46",
   "metadata": {},
   "outputs": [],
   "source": [
    "film_df = film_df.drop(['release_year', 'original_language_id', 'last_update', 'rental_rate'], axis=1)\n"
   ]
  },
  {
   "cell_type": "code",
   "execution_count": 51,
   "id": "e92ac379",
   "metadata": {},
   "outputs": [
    {
     "data": {
      "text/plain": [
       "Index(['film_id', 'title', 'description', 'language_id', 'rental_duration',\n",
       "       'length', 'replacement_cost', 'rating', 'special_features'],\n",
       "      dtype='object')"
      ]
     },
     "execution_count": 51,
     "metadata": {},
     "output_type": "execute_result"
    }
   ],
   "source": [
    "film_df.columns"
   ]
  },
  {
   "cell_type": "code",
   "execution_count": 52,
   "id": "00fe2869",
   "metadata": {},
   "outputs": [
    {
     "data": {
      "text/html": [
       "<div>\n",
       "<style scoped>\n",
       "    .dataframe tbody tr th:only-of-type {\n",
       "        vertical-align: middle;\n",
       "    }\n",
       "\n",
       "    .dataframe tbody tr th {\n",
       "        vertical-align: top;\n",
       "    }\n",
       "\n",
       "    .dataframe thead th {\n",
       "        text-align: right;\n",
       "    }\n",
       "</style>\n",
       "<table border=\"1\" class=\"dataframe\">\n",
       "  <thead>\n",
       "    <tr style=\"text-align: right;\">\n",
       "      <th></th>\n",
       "      <th>film_id</th>\n",
       "      <th>title</th>\n",
       "      <th>description</th>\n",
       "      <th>language_id</th>\n",
       "      <th>rental_duration</th>\n",
       "      <th>length</th>\n",
       "      <th>replacement_cost</th>\n",
       "      <th>rating</th>\n",
       "      <th>special_features</th>\n",
       "    </tr>\n",
       "  </thead>\n",
       "  <tbody>\n",
       "    <tr>\n",
       "      <th>0</th>\n",
       "      <td>1</td>\n",
       "      <td>ACADEMY DINOSAUR</td>\n",
       "      <td>A Epic Drama of a Feminist And a Mad Scientist...</td>\n",
       "      <td>1</td>\n",
       "      <td>6</td>\n",
       "      <td>86</td>\n",
       "      <td>20.99</td>\n",
       "      <td>PG</td>\n",
       "      <td>Deleted Scenes,Behind the Scenes</td>\n",
       "    </tr>\n",
       "    <tr>\n",
       "      <th>1</th>\n",
       "      <td>2</td>\n",
       "      <td>ACE GOLDFINGER</td>\n",
       "      <td>A Astounding Epistle of a Database Administrat...</td>\n",
       "      <td>1</td>\n",
       "      <td>3</td>\n",
       "      <td>48</td>\n",
       "      <td>12.99</td>\n",
       "      <td>G</td>\n",
       "      <td>Trailers,Deleted Scenes</td>\n",
       "    </tr>\n",
       "    <tr>\n",
       "      <th>2</th>\n",
       "      <td>3</td>\n",
       "      <td>ADAPTATION HOLES</td>\n",
       "      <td>A Astounding Reflection of a Lumberjack And a ...</td>\n",
       "      <td>1</td>\n",
       "      <td>7</td>\n",
       "      <td>50</td>\n",
       "      <td>18.99</td>\n",
       "      <td>NC-17</td>\n",
       "      <td>Trailers,Deleted Scenes</td>\n",
       "    </tr>\n",
       "    <tr>\n",
       "      <th>3</th>\n",
       "      <td>4</td>\n",
       "      <td>AFFAIR PREJUDICE</td>\n",
       "      <td>A Fanciful Documentary of a Frisbee And a Lumb...</td>\n",
       "      <td>1</td>\n",
       "      <td>5</td>\n",
       "      <td>117</td>\n",
       "      <td>26.99</td>\n",
       "      <td>G</td>\n",
       "      <td>Commentaries,Behind the Scenes</td>\n",
       "    </tr>\n",
       "    <tr>\n",
       "      <th>4</th>\n",
       "      <td>5</td>\n",
       "      <td>AFRICAN EGG</td>\n",
       "      <td>A Fast-Paced Documentary of a Pastry Chef And ...</td>\n",
       "      <td>1</td>\n",
       "      <td>6</td>\n",
       "      <td>130</td>\n",
       "      <td>22.99</td>\n",
       "      <td>G</td>\n",
       "      <td>Deleted Scenes</td>\n",
       "    </tr>\n",
       "  </tbody>\n",
       "</table>\n",
       "</div>"
      ],
      "text/plain": [
       "   film_id             title  \\\n",
       "0        1  ACADEMY DINOSAUR   \n",
       "1        2    ACE GOLDFINGER   \n",
       "2        3  ADAPTATION HOLES   \n",
       "3        4  AFFAIR PREJUDICE   \n",
       "4        5       AFRICAN EGG   \n",
       "\n",
       "                                         description  language_id  \\\n",
       "0  A Epic Drama of a Feminist And a Mad Scientist...            1   \n",
       "1  A Astounding Epistle of a Database Administrat...            1   \n",
       "2  A Astounding Reflection of a Lumberjack And a ...            1   \n",
       "3  A Fanciful Documentary of a Frisbee And a Lumb...            1   \n",
       "4  A Fast-Paced Documentary of a Pastry Chef And ...            1   \n",
       "\n",
       "   rental_duration  length  replacement_cost rating  \\\n",
       "0                6      86             20.99     PG   \n",
       "1                3      48             12.99      G   \n",
       "2                7      50             18.99  NC-17   \n",
       "3                5     117             26.99      G   \n",
       "4                6     130             22.99      G   \n",
       "\n",
       "                   special_features  \n",
       "0  Deleted Scenes,Behind the Scenes  \n",
       "1           Trailers,Deleted Scenes  \n",
       "2           Trailers,Deleted Scenes  \n",
       "3    Commentaries,Behind the Scenes  \n",
       "4                    Deleted Scenes  "
      ]
     },
     "execution_count": 52,
     "metadata": {},
     "output_type": "execute_result"
    }
   ],
   "source": [
    "film_df.head()"
   ]
  },
  {
   "cell_type": "code",
   "execution_count": 53,
   "id": "58b02ab9",
   "metadata": {},
   "outputs": [
    {
     "data": {
      "text/plain": [
       "15"
      ]
     },
     "execution_count": 53,
     "metadata": {},
     "output_type": "execute_result"
    }
   ],
   "source": [
    "film_df['special_features'].nunique()"
   ]
  },
  {
   "cell_type": "markdown",
   "id": "4e1a6602",
   "metadata": {},
   "source": [
    "### Limpiamos columnas"
   ]
  },
  {
   "cell_type": "markdown",
   "id": "17e68e11",
   "metadata": {},
   "source": [
    "- Como el titulo de las columnas está en mayúsculas, por si alguno de las letras no es mayúscula, voy a hacer una comprobación y un cambio de todo a MAYÚSCULAS."
   ]
  },
  {
   "cell_type": "code",
   "execution_count": 54,
   "id": "8b48b24f",
   "metadata": {},
   "outputs": [],
   "source": [
    "if not film_df['title'].str.isupper().all():\n",
    "    \n",
    "    film_df['title'] = film_df['title'].str.upper()"
   ]
  },
  {
   "cell_type": "code",
   "execution_count": 55,
   "id": "08b3ce71",
   "metadata": {},
   "outputs": [],
   "source": [
    "if not film_df['special_features'].str.islower().all():\n",
    "    \n",
    "    film_df['special_features'] = film_df['special_features'].str.lower()"
   ]
  },
  {
   "cell_type": "code",
   "execution_count": 56,
   "id": "8a116128",
   "metadata": {},
   "outputs": [
    {
     "data": {
      "text/html": [
       "<div>\n",
       "<style scoped>\n",
       "    .dataframe tbody tr th:only-of-type {\n",
       "        vertical-align: middle;\n",
       "    }\n",
       "\n",
       "    .dataframe tbody tr th {\n",
       "        vertical-align: top;\n",
       "    }\n",
       "\n",
       "    .dataframe thead th {\n",
       "        text-align: right;\n",
       "    }\n",
       "</style>\n",
       "<table border=\"1\" class=\"dataframe\">\n",
       "  <thead>\n",
       "    <tr style=\"text-align: right;\">\n",
       "      <th></th>\n",
       "      <th>film_id</th>\n",
       "      <th>title</th>\n",
       "      <th>description</th>\n",
       "      <th>language_id</th>\n",
       "      <th>rental_duration</th>\n",
       "      <th>length</th>\n",
       "      <th>replacement_cost</th>\n",
       "      <th>rating</th>\n",
       "      <th>special_features</th>\n",
       "    </tr>\n",
       "  </thead>\n",
       "  <tbody>\n",
       "    <tr>\n",
       "      <th>0</th>\n",
       "      <td>1</td>\n",
       "      <td>ACADEMY DINOSAUR</td>\n",
       "      <td>A Epic Drama of a Feminist And a Mad Scientist...</td>\n",
       "      <td>1</td>\n",
       "      <td>6</td>\n",
       "      <td>86</td>\n",
       "      <td>20.99</td>\n",
       "      <td>PG</td>\n",
       "      <td>deleted scenes,behind the scenes</td>\n",
       "    </tr>\n",
       "    <tr>\n",
       "      <th>1</th>\n",
       "      <td>2</td>\n",
       "      <td>ACE GOLDFINGER</td>\n",
       "      <td>A Astounding Epistle of a Database Administrat...</td>\n",
       "      <td>1</td>\n",
       "      <td>3</td>\n",
       "      <td>48</td>\n",
       "      <td>12.99</td>\n",
       "      <td>G</td>\n",
       "      <td>trailers,deleted scenes</td>\n",
       "    </tr>\n",
       "    <tr>\n",
       "      <th>2</th>\n",
       "      <td>3</td>\n",
       "      <td>ADAPTATION HOLES</td>\n",
       "      <td>A Astounding Reflection of a Lumberjack And a ...</td>\n",
       "      <td>1</td>\n",
       "      <td>7</td>\n",
       "      <td>50</td>\n",
       "      <td>18.99</td>\n",
       "      <td>NC-17</td>\n",
       "      <td>trailers,deleted scenes</td>\n",
       "    </tr>\n",
       "    <tr>\n",
       "      <th>3</th>\n",
       "      <td>4</td>\n",
       "      <td>AFFAIR PREJUDICE</td>\n",
       "      <td>A Fanciful Documentary of a Frisbee And a Lumb...</td>\n",
       "      <td>1</td>\n",
       "      <td>5</td>\n",
       "      <td>117</td>\n",
       "      <td>26.99</td>\n",
       "      <td>G</td>\n",
       "      <td>commentaries,behind the scenes</td>\n",
       "    </tr>\n",
       "    <tr>\n",
       "      <th>4</th>\n",
       "      <td>5</td>\n",
       "      <td>AFRICAN EGG</td>\n",
       "      <td>A Fast-Paced Documentary of a Pastry Chef And ...</td>\n",
       "      <td>1</td>\n",
       "      <td>6</td>\n",
       "      <td>130</td>\n",
       "      <td>22.99</td>\n",
       "      <td>G</td>\n",
       "      <td>deleted scenes</td>\n",
       "    </tr>\n",
       "  </tbody>\n",
       "</table>\n",
       "</div>"
      ],
      "text/plain": [
       "   film_id             title  \\\n",
       "0        1  ACADEMY DINOSAUR   \n",
       "1        2    ACE GOLDFINGER   \n",
       "2        3  ADAPTATION HOLES   \n",
       "3        4  AFFAIR PREJUDICE   \n",
       "4        5       AFRICAN EGG   \n",
       "\n",
       "                                         description  language_id  \\\n",
       "0  A Epic Drama of a Feminist And a Mad Scientist...            1   \n",
       "1  A Astounding Epistle of a Database Administrat...            1   \n",
       "2  A Astounding Reflection of a Lumberjack And a ...            1   \n",
       "3  A Fanciful Documentary of a Frisbee And a Lumb...            1   \n",
       "4  A Fast-Paced Documentary of a Pastry Chef And ...            1   \n",
       "\n",
       "   rental_duration  length  replacement_cost rating  \\\n",
       "0                6      86             20.99     PG   \n",
       "1                3      48             12.99      G   \n",
       "2                7      50             18.99  NC-17   \n",
       "3                5     117             26.99      G   \n",
       "4                6     130             22.99      G   \n",
       "\n",
       "                   special_features  \n",
       "0  deleted scenes,behind the scenes  \n",
       "1           trailers,deleted scenes  \n",
       "2           trailers,deleted scenes  \n",
       "3    commentaries,behind the scenes  \n",
       "4                    deleted scenes  "
      ]
     },
     "execution_count": 56,
     "metadata": {},
     "output_type": "execute_result"
    }
   ],
   "source": [
    "film_df.head()"
   ]
  },
  {
   "cell_type": "code",
   "execution_count": 57,
   "id": "ee138cec",
   "metadata": {
    "scrolled": true
   },
   "outputs": [
    {
     "data": {
      "text/plain": [
       "rating\n",
       "PG-13    223\n",
       "NC-17    210\n",
       "R        195\n",
       "PG       194\n",
       "G        178\n",
       "Name: count, dtype: int64"
      ]
     },
     "execution_count": 57,
     "metadata": {},
     "output_type": "execute_result"
    }
   ],
   "source": [
    "film_df['rating'].value_counts()"
   ]
  },
  {
   "cell_type": "markdown",
   "id": "d0d90281",
   "metadata": {},
   "source": [
    "- Para que sea más sencillo, he adaptado un orden del 1 al 5 en los 'rating' de las películas. "
   ]
  },
  {
   "cell_type": "code",
   "execution_count": 58,
   "id": "7c551848",
   "metadata": {},
   "outputs": [],
   "source": [
    "rating_dict = {'PG-13': 1, 'NC-17': 2, 'R': 3, 'PG': 4, 'G': 5}\n",
    "\n",
    "film_df['rating'] = film_df['rating'].replace(rating_dict)"
   ]
  },
  {
   "cell_type": "code",
   "execution_count": 59,
   "id": "70f1ff37",
   "metadata": {},
   "outputs": [
    {
     "data": {
      "text/html": [
       "<div>\n",
       "<style scoped>\n",
       "    .dataframe tbody tr th:only-of-type {\n",
       "        vertical-align: middle;\n",
       "    }\n",
       "\n",
       "    .dataframe tbody tr th {\n",
       "        vertical-align: top;\n",
       "    }\n",
       "\n",
       "    .dataframe thead th {\n",
       "        text-align: right;\n",
       "    }\n",
       "</style>\n",
       "<table border=\"1\" class=\"dataframe\">\n",
       "  <thead>\n",
       "    <tr style=\"text-align: right;\">\n",
       "      <th></th>\n",
       "      <th>film_id</th>\n",
       "      <th>title</th>\n",
       "      <th>description</th>\n",
       "      <th>language_id</th>\n",
       "      <th>rental_duration</th>\n",
       "      <th>length</th>\n",
       "      <th>replacement_cost</th>\n",
       "      <th>rating</th>\n",
       "      <th>special_features</th>\n",
       "    </tr>\n",
       "  </thead>\n",
       "  <tbody>\n",
       "    <tr>\n",
       "      <th>0</th>\n",
       "      <td>1</td>\n",
       "      <td>ACADEMY DINOSAUR</td>\n",
       "      <td>A Epic Drama of a Feminist And a Mad Scientist...</td>\n",
       "      <td>1</td>\n",
       "      <td>6</td>\n",
       "      <td>86</td>\n",
       "      <td>20.99</td>\n",
       "      <td>4</td>\n",
       "      <td>deleted scenes,behind the scenes</td>\n",
       "    </tr>\n",
       "    <tr>\n",
       "      <th>1</th>\n",
       "      <td>2</td>\n",
       "      <td>ACE GOLDFINGER</td>\n",
       "      <td>A Astounding Epistle of a Database Administrat...</td>\n",
       "      <td>1</td>\n",
       "      <td>3</td>\n",
       "      <td>48</td>\n",
       "      <td>12.99</td>\n",
       "      <td>5</td>\n",
       "      <td>trailers,deleted scenes</td>\n",
       "    </tr>\n",
       "    <tr>\n",
       "      <th>2</th>\n",
       "      <td>3</td>\n",
       "      <td>ADAPTATION HOLES</td>\n",
       "      <td>A Astounding Reflection of a Lumberjack And a ...</td>\n",
       "      <td>1</td>\n",
       "      <td>7</td>\n",
       "      <td>50</td>\n",
       "      <td>18.99</td>\n",
       "      <td>2</td>\n",
       "      <td>trailers,deleted scenes</td>\n",
       "    </tr>\n",
       "    <tr>\n",
       "      <th>3</th>\n",
       "      <td>4</td>\n",
       "      <td>AFFAIR PREJUDICE</td>\n",
       "      <td>A Fanciful Documentary of a Frisbee And a Lumb...</td>\n",
       "      <td>1</td>\n",
       "      <td>5</td>\n",
       "      <td>117</td>\n",
       "      <td>26.99</td>\n",
       "      <td>5</td>\n",
       "      <td>commentaries,behind the scenes</td>\n",
       "    </tr>\n",
       "    <tr>\n",
       "      <th>4</th>\n",
       "      <td>5</td>\n",
       "      <td>AFRICAN EGG</td>\n",
       "      <td>A Fast-Paced Documentary of a Pastry Chef And ...</td>\n",
       "      <td>1</td>\n",
       "      <td>6</td>\n",
       "      <td>130</td>\n",
       "      <td>22.99</td>\n",
       "      <td>5</td>\n",
       "      <td>deleted scenes</td>\n",
       "    </tr>\n",
       "  </tbody>\n",
       "</table>\n",
       "</div>"
      ],
      "text/plain": [
       "   film_id             title  \\\n",
       "0        1  ACADEMY DINOSAUR   \n",
       "1        2    ACE GOLDFINGER   \n",
       "2        3  ADAPTATION HOLES   \n",
       "3        4  AFFAIR PREJUDICE   \n",
       "4        5       AFRICAN EGG   \n",
       "\n",
       "                                         description  language_id  \\\n",
       "0  A Epic Drama of a Feminist And a Mad Scientist...            1   \n",
       "1  A Astounding Epistle of a Database Administrat...            1   \n",
       "2  A Astounding Reflection of a Lumberjack And a ...            1   \n",
       "3  A Fanciful Documentary of a Frisbee And a Lumb...            1   \n",
       "4  A Fast-Paced Documentary of a Pastry Chef And ...            1   \n",
       "\n",
       "   rental_duration  length  replacement_cost  rating  \\\n",
       "0                6      86             20.99       4   \n",
       "1                3      48             12.99       5   \n",
       "2                7      50             18.99       2   \n",
       "3                5     117             26.99       5   \n",
       "4                6     130             22.99       5   \n",
       "\n",
       "                   special_features  \n",
       "0  deleted scenes,behind the scenes  \n",
       "1           trailers,deleted scenes  \n",
       "2           trailers,deleted scenes  \n",
       "3    commentaries,behind the scenes  \n",
       "4                    deleted scenes  "
      ]
     },
     "execution_count": 59,
     "metadata": {},
     "output_type": "execute_result"
    }
   ],
   "source": [
    "film_df.head()"
   ]
  },
  {
   "cell_type": "code",
   "execution_count": 60,
   "id": "47959709",
   "metadata": {},
   "outputs": [
    {
     "data": {
      "text/plain": [
       "str"
      ]
     },
     "execution_count": 60,
     "metadata": {},
     "output_type": "execute_result"
    }
   ],
   "source": [
    "type('replacement_cost')"
   ]
  },
  {
   "cell_type": "markdown",
   "id": "020d9af5",
   "metadata": {},
   "source": [
    "- Cambio el 'replacement_cost' a numeros enteros, ya que el valor anterior ensucia la tabla final. \n",
    "- Para ello se pasa el valor a entero mientras redondeamos el número dado al número entero más cercano. "
   ]
  },
  {
   "cell_type": "code",
   "execution_count": 61,
   "id": "75bf5f92",
   "metadata": {},
   "outputs": [],
   "source": [
    "film_df['replacement_cost'] = round(film_df['replacement_cost']).astype(int)"
   ]
  },
  {
   "cell_type": "code",
   "execution_count": 62,
   "id": "818ecfda",
   "metadata": {},
   "outputs": [
    {
     "data": {
      "text/html": [
       "<div>\n",
       "<style scoped>\n",
       "    .dataframe tbody tr th:only-of-type {\n",
       "        vertical-align: middle;\n",
       "    }\n",
       "\n",
       "    .dataframe tbody tr th {\n",
       "        vertical-align: top;\n",
       "    }\n",
       "\n",
       "    .dataframe thead th {\n",
       "        text-align: right;\n",
       "    }\n",
       "</style>\n",
       "<table border=\"1\" class=\"dataframe\">\n",
       "  <thead>\n",
       "    <tr style=\"text-align: right;\">\n",
       "      <th></th>\n",
       "      <th>film_id</th>\n",
       "      <th>title</th>\n",
       "      <th>description</th>\n",
       "      <th>language_id</th>\n",
       "      <th>rental_duration</th>\n",
       "      <th>length</th>\n",
       "      <th>replacement_cost</th>\n",
       "      <th>rating</th>\n",
       "      <th>special_features</th>\n",
       "    </tr>\n",
       "  </thead>\n",
       "  <tbody>\n",
       "    <tr>\n",
       "      <th>0</th>\n",
       "      <td>1</td>\n",
       "      <td>ACADEMY DINOSAUR</td>\n",
       "      <td>A Epic Drama of a Feminist And a Mad Scientist...</td>\n",
       "      <td>1</td>\n",
       "      <td>6</td>\n",
       "      <td>86</td>\n",
       "      <td>21</td>\n",
       "      <td>4</td>\n",
       "      <td>deleted scenes,behind the scenes</td>\n",
       "    </tr>\n",
       "    <tr>\n",
       "      <th>1</th>\n",
       "      <td>2</td>\n",
       "      <td>ACE GOLDFINGER</td>\n",
       "      <td>A Astounding Epistle of a Database Administrat...</td>\n",
       "      <td>1</td>\n",
       "      <td>3</td>\n",
       "      <td>48</td>\n",
       "      <td>13</td>\n",
       "      <td>5</td>\n",
       "      <td>trailers,deleted scenes</td>\n",
       "    </tr>\n",
       "    <tr>\n",
       "      <th>2</th>\n",
       "      <td>3</td>\n",
       "      <td>ADAPTATION HOLES</td>\n",
       "      <td>A Astounding Reflection of a Lumberjack And a ...</td>\n",
       "      <td>1</td>\n",
       "      <td>7</td>\n",
       "      <td>50</td>\n",
       "      <td>19</td>\n",
       "      <td>2</td>\n",
       "      <td>trailers,deleted scenes</td>\n",
       "    </tr>\n",
       "    <tr>\n",
       "      <th>3</th>\n",
       "      <td>4</td>\n",
       "      <td>AFFAIR PREJUDICE</td>\n",
       "      <td>A Fanciful Documentary of a Frisbee And a Lumb...</td>\n",
       "      <td>1</td>\n",
       "      <td>5</td>\n",
       "      <td>117</td>\n",
       "      <td>27</td>\n",
       "      <td>5</td>\n",
       "      <td>commentaries,behind the scenes</td>\n",
       "    </tr>\n",
       "    <tr>\n",
       "      <th>4</th>\n",
       "      <td>5</td>\n",
       "      <td>AFRICAN EGG</td>\n",
       "      <td>A Fast-Paced Documentary of a Pastry Chef And ...</td>\n",
       "      <td>1</td>\n",
       "      <td>6</td>\n",
       "      <td>130</td>\n",
       "      <td>23</td>\n",
       "      <td>5</td>\n",
       "      <td>deleted scenes</td>\n",
       "    </tr>\n",
       "  </tbody>\n",
       "</table>\n",
       "</div>"
      ],
      "text/plain": [
       "   film_id             title  \\\n",
       "0        1  ACADEMY DINOSAUR   \n",
       "1        2    ACE GOLDFINGER   \n",
       "2        3  ADAPTATION HOLES   \n",
       "3        4  AFFAIR PREJUDICE   \n",
       "4        5       AFRICAN EGG   \n",
       "\n",
       "                                         description  language_id  \\\n",
       "0  A Epic Drama of a Feminist And a Mad Scientist...            1   \n",
       "1  A Astounding Epistle of a Database Administrat...            1   \n",
       "2  A Astounding Reflection of a Lumberjack And a ...            1   \n",
       "3  A Fanciful Documentary of a Frisbee And a Lumb...            1   \n",
       "4  A Fast-Paced Documentary of a Pastry Chef And ...            1   \n",
       "\n",
       "   rental_duration  length  replacement_cost  rating  \\\n",
       "0                6      86                21       4   \n",
       "1                3      48                13       5   \n",
       "2                7      50                19       2   \n",
       "3                5     117                27       5   \n",
       "4                6     130                23       5   \n",
       "\n",
       "                   special_features  \n",
       "0  deleted scenes,behind the scenes  \n",
       "1           trailers,deleted scenes  \n",
       "2           trailers,deleted scenes  \n",
       "3    commentaries,behind the scenes  \n",
       "4                    deleted scenes  "
      ]
     },
     "execution_count": 62,
     "metadata": {},
     "output_type": "execute_result"
    }
   ],
   "source": [
    "film_df.head()"
   ]
  },
  {
   "cell_type": "markdown",
   "id": "ae6a756e",
   "metadata": {},
   "source": [
    "# Cleaning INVENTORY"
   ]
  },
  {
   "cell_type": "markdown",
   "id": "fe7230f0",
   "metadata": {},
   "source": [
    "Importamos el dataframe del csv inventory.csv\n",
    "\n",
    "Observamos si tiene: \n",
    " - Duplicados\n",
    " - Nulos"
   ]
  },
  {
   "cell_type": "markdown",
   "id": "0d9c11ff",
   "metadata": {},
   "source": [
    "- Elimino aquellas columnas que tienen valores iguales y repetidos."
   ]
  },
  {
   "cell_type": "code",
   "execution_count": 63,
   "id": "5d4ab309",
   "metadata": {},
   "outputs": [
    {
     "data": {
      "text/plain": [
       "False"
      ]
     },
     "execution_count": 63,
     "metadata": {},
     "output_type": "execute_result"
    }
   ],
   "source": [
    "inv.duplicated().any()"
   ]
  },
  {
   "cell_type": "code",
   "execution_count": 64,
   "id": "9d09fe05",
   "metadata": {},
   "outputs": [
    {
     "data": {
      "text/plain": [
       "1000"
      ]
     },
     "execution_count": 64,
     "metadata": {},
     "output_type": "execute_result"
    }
   ],
   "source": [
    "inv['film_id'].count()"
   ]
  },
  {
   "cell_type": "code",
   "execution_count": 65,
   "id": "01dcd898",
   "metadata": {},
   "outputs": [
    {
     "data": {
      "text/html": [
       "<div>\n",
       "<style scoped>\n",
       "    .dataframe tbody tr th:only-of-type {\n",
       "        vertical-align: middle;\n",
       "    }\n",
       "\n",
       "    .dataframe tbody tr th {\n",
       "        vertical-align: top;\n",
       "    }\n",
       "\n",
       "    .dataframe thead th {\n",
       "        text-align: right;\n",
       "    }\n",
       "</style>\n",
       "<table border=\"1\" class=\"dataframe\">\n",
       "  <thead>\n",
       "    <tr style=\"text-align: right;\">\n",
       "      <th></th>\n",
       "      <th>inventory_id</th>\n",
       "      <th>film_id</th>\n",
       "      <th>store_id</th>\n",
       "      <th>last_update</th>\n",
       "    </tr>\n",
       "  </thead>\n",
       "  <tbody>\n",
       "    <tr>\n",
       "      <th>995</th>\n",
       "      <td>996</td>\n",
       "      <td>222</td>\n",
       "      <td>2</td>\n",
       "      <td>2006-02-15 05:09:17</td>\n",
       "    </tr>\n",
       "    <tr>\n",
       "      <th>996</th>\n",
       "      <td>997</td>\n",
       "      <td>222</td>\n",
       "      <td>2</td>\n",
       "      <td>2006-02-15 05:09:17</td>\n",
       "    </tr>\n",
       "    <tr>\n",
       "      <th>997</th>\n",
       "      <td>998</td>\n",
       "      <td>222</td>\n",
       "      <td>2</td>\n",
       "      <td>2006-02-15 05:09:17</td>\n",
       "    </tr>\n",
       "    <tr>\n",
       "      <th>998</th>\n",
       "      <td>999</td>\n",
       "      <td>223</td>\n",
       "      <td>2</td>\n",
       "      <td>2006-02-15 05:09:17</td>\n",
       "    </tr>\n",
       "    <tr>\n",
       "      <th>999</th>\n",
       "      <td>1000</td>\n",
       "      <td>223</td>\n",
       "      <td>2</td>\n",
       "      <td>2006-02-15 05:09:17</td>\n",
       "    </tr>\n",
       "  </tbody>\n",
       "</table>\n",
       "</div>"
      ],
      "text/plain": [
       "     inventory_id  film_id  store_id          last_update\n",
       "995           996      222         2  2006-02-15 05:09:17\n",
       "996           997      222         2  2006-02-15 05:09:17\n",
       "997           998      222         2  2006-02-15 05:09:17\n",
       "998           999      223         2  2006-02-15 05:09:17\n",
       "999          1000      223         2  2006-02-15 05:09:17"
      ]
     },
     "execution_count": 65,
     "metadata": {},
     "output_type": "execute_result"
    }
   ],
   "source": [
    "inv.tail()"
   ]
  },
  {
   "cell_type": "code",
   "execution_count": 66,
   "id": "8a4fb48f",
   "metadata": {},
   "outputs": [],
   "source": [
    "inv = inv.drop(['last_update'], axis=1)"
   ]
  },
  {
   "cell_type": "code",
   "execution_count": 67,
   "id": "4936091f",
   "metadata": {},
   "outputs": [
    {
     "data": {
      "text/html": [
       "<div>\n",
       "<style scoped>\n",
       "    .dataframe tbody tr th:only-of-type {\n",
       "        vertical-align: middle;\n",
       "    }\n",
       "\n",
       "    .dataframe tbody tr th {\n",
       "        vertical-align: top;\n",
       "    }\n",
       "\n",
       "    .dataframe thead th {\n",
       "        text-align: right;\n",
       "    }\n",
       "</style>\n",
       "<table border=\"1\" class=\"dataframe\">\n",
       "  <thead>\n",
       "    <tr style=\"text-align: right;\">\n",
       "      <th></th>\n",
       "      <th>inventory_id</th>\n",
       "      <th>film_id</th>\n",
       "      <th>store_id</th>\n",
       "    </tr>\n",
       "  </thead>\n",
       "  <tbody>\n",
       "    <tr>\n",
       "      <th>0</th>\n",
       "      <td>1</td>\n",
       "      <td>1</td>\n",
       "      <td>1</td>\n",
       "    </tr>\n",
       "    <tr>\n",
       "      <th>1</th>\n",
       "      <td>2</td>\n",
       "      <td>1</td>\n",
       "      <td>1</td>\n",
       "    </tr>\n",
       "    <tr>\n",
       "      <th>2</th>\n",
       "      <td>3</td>\n",
       "      <td>1</td>\n",
       "      <td>1</td>\n",
       "    </tr>\n",
       "    <tr>\n",
       "      <th>3</th>\n",
       "      <td>4</td>\n",
       "      <td>1</td>\n",
       "      <td>1</td>\n",
       "    </tr>\n",
       "    <tr>\n",
       "      <th>4</th>\n",
       "      <td>5</td>\n",
       "      <td>1</td>\n",
       "      <td>2</td>\n",
       "    </tr>\n",
       "  </tbody>\n",
       "</table>\n",
       "</div>"
      ],
      "text/plain": [
       "   inventory_id  film_id  store_id\n",
       "0             1        1         1\n",
       "1             2        1         1\n",
       "2             3        1         1\n",
       "3             4        1         1\n",
       "4             5        1         2"
      ]
     },
     "execution_count": 67,
     "metadata": {},
     "output_type": "execute_result"
    }
   ],
   "source": [
    "inv.head()"
   ]
  },
  {
   "cell_type": "markdown",
   "id": "dc32bcc6",
   "metadata": {},
   "source": [
    "- Observamos si el número de valores únicos de las películas que están en el inventario (tabla 'INVENTORY') coinciden con las películas de la tabla 'FILM_DF'. \n",
    "- Podemos hacer esto porque tenemos un valor en una columna que coincide, el 'film_id'. "
   ]
  },
  {
   "cell_type": "code",
   "execution_count": 68,
   "id": "56f15c68",
   "metadata": {},
   "outputs": [
    {
     "data": {
      "text/plain": [
       "(1000, 3)"
      ]
     },
     "execution_count": 68,
     "metadata": {},
     "output_type": "execute_result"
    }
   ],
   "source": [
    "inv.shape"
   ]
  },
  {
   "cell_type": "code",
   "execution_count": 69,
   "id": "a9d37634",
   "metadata": {},
   "outputs": [
    {
     "data": {
      "text/plain": [
       "207"
      ]
     },
     "execution_count": 69,
     "metadata": {},
     "output_type": "execute_result"
    }
   ],
   "source": [
    "len(inv['film_id'].unique())"
   ]
  },
  {
   "cell_type": "code",
   "execution_count": 70,
   "id": "03969da1",
   "metadata": {},
   "outputs": [
    {
     "data": {
      "text/plain": [
       "1000"
      ]
     },
     "execution_count": 70,
     "metadata": {},
     "output_type": "execute_result"
    }
   ],
   "source": [
    "len(film_df['film_id'].unique ())"
   ]
  },
  {
   "cell_type": "code",
   "execution_count": 71,
   "id": "d2ffb404",
   "metadata": {},
   "outputs": [
    {
     "data": {
      "text/plain": [
       "array([  1,   2,   3,   4,   5,   6,   7,   8,   9,  10,  11,  12,  13,\n",
       "        15,  16,  17,  18,  19,  20,  21,  22,  23,  24,  25,  26,  27,\n",
       "        28,  29,  30,  31,  32,  34,  35,  37,  39,  40,  42,  43,  44,\n",
       "        45,  46,  47,  48,  49,  50,  51,  52,  53,  54,  55,  56,  57,\n",
       "        58,  59,  60,  61,  62,  63,  64,  65,  66,  67,  68,  69,  70,\n",
       "        71,  72,  73,  74,  75,  76,  77,  78,  79,  80,  81,  82,  83,\n",
       "        84,  85,  86,  88,  89,  90,  91,  92,  93,  94,  95,  96,  97,\n",
       "        98,  99, 100, 101, 102, 103, 104, 105, 106, 107, 109, 110, 111,\n",
       "       112, 113, 114, 115, 116, 117, 118, 119, 120, 121, 122, 123, 124,\n",
       "       125, 126, 127, 129, 130, 131, 132, 133, 134, 135, 136, 137, 138,\n",
       "       139, 140, 141, 142, 143, 145, 146, 147, 149, 150, 151, 152, 153,\n",
       "       154, 155, 156, 157, 158, 159, 160, 161, 162, 163, 164, 165, 166,\n",
       "       167, 168, 169, 170, 172, 173, 174, 175, 176, 177, 178, 179, 180,\n",
       "       181, 182, 183, 184, 185, 186, 187, 188, 189, 190, 191, 193, 194,\n",
       "       196, 197, 199, 200, 201, 202, 203, 204, 205, 206, 207, 208, 209,\n",
       "       210, 211, 212, 213, 214, 215, 216, 218, 219, 220, 222, 223])"
      ]
     },
     "execution_count": 71,
     "metadata": {},
     "output_type": "execute_result"
    }
   ],
   "source": [
    "# Unir los dataframes utilizando la función \"merge\"\n",
    "merged_df = pd.merge(inv, film_df, on=\"film_id\")\n",
    "\n",
    "# Obtener la lista de películas que coinciden en ambas tablas\n",
    "common_movies = merged_df[\"film_id\"].unique()\n",
    "common_movies"
   ]
  },
  {
   "cell_type": "markdown",
   "id": "b5ebc443",
   "metadata": {},
   "source": [
    "- Al hacer esto vemos que en efecto hay 1000 películas en la tabla 'INV', y 1000 películas en la tabla 'FILM_DF'. Sin embargo, los valores únicos de cada una no coindicen ya que el inventario muestra únicamente 223 valores únicos (una misma película está en varias tiendas).\n",
    "\n",
    "\n",
    "- Además, las películas de la tabla 'INV' coinciden con las 223 primeras películas de la tabla 'FILM_DF'.\n"
   ]
  },
  {
   "cell_type": "markdown",
   "id": "cb549f2f",
   "metadata": {},
   "source": [
    "# Cleaning LANGUAGE"
   ]
  },
  {
   "cell_type": "markdown",
   "id": "1b5b6a87",
   "metadata": {},
   "source": [
    "Importamos el dataframe del csv language.csv\n",
    "\n",
    "Observamos si tiene: \n",
    " - Duplicados\n",
    " - Nulos\n",
    " \n",
    "Renombramos la columna 'name' para que sea más visual y facil de utilizar posteriormente"
   ]
  },
  {
   "cell_type": "code",
   "execution_count": 72,
   "id": "24834ccf",
   "metadata": {},
   "outputs": [
    {
     "data": {
      "text/html": [
       "<div>\n",
       "<style scoped>\n",
       "    .dataframe tbody tr th:only-of-type {\n",
       "        vertical-align: middle;\n",
       "    }\n",
       "\n",
       "    .dataframe tbody tr th {\n",
       "        vertical-align: top;\n",
       "    }\n",
       "\n",
       "    .dataframe thead th {\n",
       "        text-align: right;\n",
       "    }\n",
       "</style>\n",
       "<table border=\"1\" class=\"dataframe\">\n",
       "  <thead>\n",
       "    <tr style=\"text-align: right;\">\n",
       "      <th></th>\n",
       "      <th>language_id</th>\n",
       "      <th>name</th>\n",
       "      <th>last_update</th>\n",
       "    </tr>\n",
       "  </thead>\n",
       "  <tbody>\n",
       "    <tr>\n",
       "      <th>0</th>\n",
       "      <td>1</td>\n",
       "      <td>English</td>\n",
       "      <td>2006-02-15 05:02:19</td>\n",
       "    </tr>\n",
       "    <tr>\n",
       "      <th>1</th>\n",
       "      <td>2</td>\n",
       "      <td>Italian</td>\n",
       "      <td>2006-02-15 05:02:19</td>\n",
       "    </tr>\n",
       "    <tr>\n",
       "      <th>2</th>\n",
       "      <td>3</td>\n",
       "      <td>Japanese</td>\n",
       "      <td>2006-02-15 05:02:19</td>\n",
       "    </tr>\n",
       "    <tr>\n",
       "      <th>3</th>\n",
       "      <td>4</td>\n",
       "      <td>Mandarin</td>\n",
       "      <td>2006-02-15 05:02:19</td>\n",
       "    </tr>\n",
       "    <tr>\n",
       "      <th>4</th>\n",
       "      <td>5</td>\n",
       "      <td>French</td>\n",
       "      <td>2006-02-15 05:02:19</td>\n",
       "    </tr>\n",
       "    <tr>\n",
       "      <th>5</th>\n",
       "      <td>6</td>\n",
       "      <td>German</td>\n",
       "      <td>2006-02-15 05:02:19</td>\n",
       "    </tr>\n",
       "  </tbody>\n",
       "</table>\n",
       "</div>"
      ],
      "text/plain": [
       "   language_id      name          last_update\n",
       "0            1   English  2006-02-15 05:02:19\n",
       "1            2   Italian  2006-02-15 05:02:19\n",
       "2            3  Japanese  2006-02-15 05:02:19\n",
       "3            4  Mandarin  2006-02-15 05:02:19\n",
       "4            5    French  2006-02-15 05:02:19\n",
       "5            6    German  2006-02-15 05:02:19"
      ]
     },
     "execution_count": 72,
     "metadata": {},
     "output_type": "execute_result"
    }
   ],
   "source": [
    "lang"
   ]
  },
  {
   "cell_type": "code",
   "execution_count": 73,
   "id": "3c4ef574",
   "metadata": {},
   "outputs": [],
   "source": [
    "lang = lang.drop(['last_update'], axis=1)"
   ]
  },
  {
   "cell_type": "code",
   "execution_count": 74,
   "id": "9838e0c2",
   "metadata": {},
   "outputs": [],
   "source": [
    "lang = lang.rename(columns = {'name': 'Language'})"
   ]
  },
  {
   "cell_type": "code",
   "execution_count": 75,
   "id": "5980c876",
   "metadata": {},
   "outputs": [
    {
     "data": {
      "text/html": [
       "<div>\n",
       "<style scoped>\n",
       "    .dataframe tbody tr th:only-of-type {\n",
       "        vertical-align: middle;\n",
       "    }\n",
       "\n",
       "    .dataframe tbody tr th {\n",
       "        vertical-align: top;\n",
       "    }\n",
       "\n",
       "    .dataframe thead th {\n",
       "        text-align: right;\n",
       "    }\n",
       "</style>\n",
       "<table border=\"1\" class=\"dataframe\">\n",
       "  <thead>\n",
       "    <tr style=\"text-align: right;\">\n",
       "      <th></th>\n",
       "      <th>language_id</th>\n",
       "      <th>Language</th>\n",
       "    </tr>\n",
       "  </thead>\n",
       "  <tbody>\n",
       "    <tr>\n",
       "      <th>0</th>\n",
       "      <td>1</td>\n",
       "      <td>English</td>\n",
       "    </tr>\n",
       "    <tr>\n",
       "      <th>1</th>\n",
       "      <td>2</td>\n",
       "      <td>Italian</td>\n",
       "    </tr>\n",
       "    <tr>\n",
       "      <th>2</th>\n",
       "      <td>3</td>\n",
       "      <td>Japanese</td>\n",
       "    </tr>\n",
       "    <tr>\n",
       "      <th>3</th>\n",
       "      <td>4</td>\n",
       "      <td>Mandarin</td>\n",
       "    </tr>\n",
       "    <tr>\n",
       "      <th>4</th>\n",
       "      <td>5</td>\n",
       "      <td>French</td>\n",
       "    </tr>\n",
       "    <tr>\n",
       "      <th>5</th>\n",
       "      <td>6</td>\n",
       "      <td>German</td>\n",
       "    </tr>\n",
       "  </tbody>\n",
       "</table>\n",
       "</div>"
      ],
      "text/plain": [
       "   language_id  Language\n",
       "0            1   English\n",
       "1            2   Italian\n",
       "2            3  Japanese\n",
       "3            4  Mandarin\n",
       "4            5    French\n",
       "5            6    German"
      ]
     },
     "execution_count": 75,
     "metadata": {},
     "output_type": "execute_result"
    }
   ],
   "source": [
    "lang"
   ]
  },
  {
   "cell_type": "markdown",
   "id": "adcadde0",
   "metadata": {},
   "source": [
    "# Cleaning old_HDD"
   ]
  },
  {
   "cell_type": "markdown",
   "id": "7b733cd8",
   "metadata": {},
   "source": [
    "\n",
    "Observamos si tiene: \n",
    " - Duplicados\n",
    " - Nulos"
   ]
  },
  {
   "cell_type": "code",
   "execution_count": 76,
   "id": "75668b3d",
   "metadata": {},
   "outputs": [
    {
     "data": {
      "text/html": [
       "<div>\n",
       "<style scoped>\n",
       "    .dataframe tbody tr th:only-of-type {\n",
       "        vertical-align: middle;\n",
       "    }\n",
       "\n",
       "    .dataframe tbody tr th {\n",
       "        vertical-align: top;\n",
       "    }\n",
       "\n",
       "    .dataframe thead th {\n",
       "        text-align: right;\n",
       "    }\n",
       "</style>\n",
       "<table border=\"1\" class=\"dataframe\">\n",
       "  <thead>\n",
       "    <tr style=\"text-align: right;\">\n",
       "      <th></th>\n",
       "      <th>first_name</th>\n",
       "      <th>last_name</th>\n",
       "      <th>title</th>\n",
       "      <th>release_year</th>\n",
       "      <th>category_id</th>\n",
       "    </tr>\n",
       "  </thead>\n",
       "  <tbody>\n",
       "    <tr>\n",
       "      <th>0</th>\n",
       "      <td>PENELOPE</td>\n",
       "      <td>GUINESS</td>\n",
       "      <td>ACADEMY DINOSAUR</td>\n",
       "      <td>2006</td>\n",
       "      <td>6</td>\n",
       "    </tr>\n",
       "    <tr>\n",
       "      <th>1</th>\n",
       "      <td>PENELOPE</td>\n",
       "      <td>GUINESS</td>\n",
       "      <td>ANACONDA CONFESSIONS</td>\n",
       "      <td>2006</td>\n",
       "      <td>2</td>\n",
       "    </tr>\n",
       "    <tr>\n",
       "      <th>2</th>\n",
       "      <td>PENELOPE</td>\n",
       "      <td>GUINESS</td>\n",
       "      <td>ANGELS LIFE</td>\n",
       "      <td>2006</td>\n",
       "      <td>13</td>\n",
       "    </tr>\n",
       "    <tr>\n",
       "      <th>3</th>\n",
       "      <td>PENELOPE</td>\n",
       "      <td>GUINESS</td>\n",
       "      <td>BULWORTH COMMANDMENTS</td>\n",
       "      <td>2006</td>\n",
       "      <td>10</td>\n",
       "    </tr>\n",
       "    <tr>\n",
       "      <th>4</th>\n",
       "      <td>PENELOPE</td>\n",
       "      <td>GUINESS</td>\n",
       "      <td>CHEAPER CLYDE</td>\n",
       "      <td>2006</td>\n",
       "      <td>14</td>\n",
       "    </tr>\n",
       "  </tbody>\n",
       "</table>\n",
       "</div>"
      ],
      "text/plain": [
       "  first_name last_name                  title  release_year  category_id\n",
       "0   PENELOPE   GUINESS       ACADEMY DINOSAUR          2006            6\n",
       "1   PENELOPE   GUINESS   ANACONDA CONFESSIONS          2006            2\n",
       "2   PENELOPE   GUINESS            ANGELS LIFE          2006           13\n",
       "3   PENELOPE   GUINESS  BULWORTH COMMANDMENTS          2006           10\n",
       "4   PENELOPE   GUINESS          CHEAPER CLYDE          2006           14"
      ]
     },
     "execution_count": 76,
     "metadata": {},
     "output_type": "execute_result"
    }
   ],
   "source": [
    "old.head()"
   ]
  },
  {
   "cell_type": "code",
   "execution_count": 77,
   "id": "04d5745f",
   "metadata": {},
   "outputs": [
    {
     "data": {
      "text/plain": [
       "False"
      ]
     },
     "execution_count": 77,
     "metadata": {},
     "output_type": "execute_result"
    }
   ],
   "source": [
    "old.duplicated().any()"
   ]
  },
  {
   "cell_type": "code",
   "execution_count": 78,
   "id": "f4f62fdb",
   "metadata": {},
   "outputs": [
    {
     "data": {
      "text/plain": [
       "first_name      False\n",
       "last_name       False\n",
       "title           False\n",
       "release_year    False\n",
       "category_id     False\n",
       "dtype: bool"
      ]
     },
     "execution_count": 78,
     "metadata": {},
     "output_type": "execute_result"
    }
   ],
   "source": [
    "old.isnull().any()"
   ]
  },
  {
   "cell_type": "code",
   "execution_count": 79,
   "id": "10b9212b",
   "metadata": {},
   "outputs": [
    {
     "data": {
      "text/plain": [
       "first_name      1000\n",
       "last_name       1000\n",
       "title           1000\n",
       "release_year    1000\n",
       "category_id     1000\n",
       "dtype: int64"
      ]
     },
     "execution_count": 79,
     "metadata": {},
     "output_type": "execute_result"
    }
   ],
   "source": [
    "old.count()"
   ]
  },
  {
   "cell_type": "code",
   "execution_count": 80,
   "id": "910b4282",
   "metadata": {},
   "outputs": [
    {
     "data": {
      "text/plain": [
       "True"
      ]
     },
     "execution_count": 80,
     "metadata": {},
     "output_type": "execute_result"
    }
   ],
   "source": [
    "old['release_year'].nunique() == 1"
   ]
  },
  {
   "cell_type": "markdown",
   "id": "a7af8e51",
   "metadata": {},
   "source": [
    "- Los valores de la columna 'release_year' son únicos, por lo que voy a eliminar esta columna. "
   ]
  },
  {
   "cell_type": "code",
   "execution_count": 81,
   "id": "ea3ebe67",
   "metadata": {},
   "outputs": [],
   "source": [
    "old = old.drop(['release_year'], axis=1)"
   ]
  },
  {
   "cell_type": "code",
   "execution_count": 82,
   "id": "80954d9f",
   "metadata": {},
   "outputs": [
    {
     "data": {
      "text/plain": [
       "Index(['first_name', 'last_name', 'title', 'category_id'], dtype='object')"
      ]
     },
     "execution_count": 82,
     "metadata": {},
     "output_type": "execute_result"
    }
   ],
   "source": [
    "old.columns"
   ]
  },
  {
   "cell_type": "code",
   "execution_count": 83,
   "id": "17166965",
   "metadata": {},
   "outputs": [],
   "source": [
    "old = old.rename(columns = {'first_name': 'Name', 'last_name': 'Last_Name'})"
   ]
  },
  {
   "cell_type": "code",
   "execution_count": 84,
   "id": "0389174e",
   "metadata": {},
   "outputs": [
    {
     "data": {
      "text/html": [
       "<div>\n",
       "<style scoped>\n",
       "    .dataframe tbody tr th:only-of-type {\n",
       "        vertical-align: middle;\n",
       "    }\n",
       "\n",
       "    .dataframe tbody tr th {\n",
       "        vertical-align: top;\n",
       "    }\n",
       "\n",
       "    .dataframe thead th {\n",
       "        text-align: right;\n",
       "    }\n",
       "</style>\n",
       "<table border=\"1\" class=\"dataframe\">\n",
       "  <thead>\n",
       "    <tr style=\"text-align: right;\">\n",
       "      <th></th>\n",
       "      <th>Name</th>\n",
       "      <th>Last_Name</th>\n",
       "      <th>title</th>\n",
       "      <th>category_id</th>\n",
       "    </tr>\n",
       "  </thead>\n",
       "  <tbody>\n",
       "    <tr>\n",
       "      <th>0</th>\n",
       "      <td>PENELOPE</td>\n",
       "      <td>GUINESS</td>\n",
       "      <td>ACADEMY DINOSAUR</td>\n",
       "      <td>6</td>\n",
       "    </tr>\n",
       "    <tr>\n",
       "      <th>1</th>\n",
       "      <td>PENELOPE</td>\n",
       "      <td>GUINESS</td>\n",
       "      <td>ANACONDA CONFESSIONS</td>\n",
       "      <td>2</td>\n",
       "    </tr>\n",
       "    <tr>\n",
       "      <th>2</th>\n",
       "      <td>PENELOPE</td>\n",
       "      <td>GUINESS</td>\n",
       "      <td>ANGELS LIFE</td>\n",
       "      <td>13</td>\n",
       "    </tr>\n",
       "    <tr>\n",
       "      <th>3</th>\n",
       "      <td>PENELOPE</td>\n",
       "      <td>GUINESS</td>\n",
       "      <td>BULWORTH COMMANDMENTS</td>\n",
       "      <td>10</td>\n",
       "    </tr>\n",
       "    <tr>\n",
       "      <th>4</th>\n",
       "      <td>PENELOPE</td>\n",
       "      <td>GUINESS</td>\n",
       "      <td>CHEAPER CLYDE</td>\n",
       "      <td>14</td>\n",
       "    </tr>\n",
       "  </tbody>\n",
       "</table>\n",
       "</div>"
      ],
      "text/plain": [
       "       Name Last_Name                  title  category_id\n",
       "0  PENELOPE   GUINESS       ACADEMY DINOSAUR            6\n",
       "1  PENELOPE   GUINESS   ANACONDA CONFESSIONS            2\n",
       "2  PENELOPE   GUINESS            ANGELS LIFE           13\n",
       "3  PENELOPE   GUINESS  BULWORTH COMMANDMENTS           10\n",
       "4  PENELOPE   GUINESS          CHEAPER CLYDE           14"
      ]
     },
     "execution_count": 84,
     "metadata": {},
     "output_type": "execute_result"
    }
   ],
   "source": [
    "old.head()"
   ]
  },
  {
   "cell_type": "code",
   "execution_count": 85,
   "id": "7daa57b1",
   "metadata": {},
   "outputs": [],
   "source": [
    "old['Name_complete'] = old['Name'] + ' ' + old['Last_Name']"
   ]
  },
  {
   "cell_type": "code",
   "execution_count": 86,
   "id": "41b7a8e1",
   "metadata": {},
   "outputs": [
    {
     "data": {
      "text/html": [
       "<div>\n",
       "<style scoped>\n",
       "    .dataframe tbody tr th:only-of-type {\n",
       "        vertical-align: middle;\n",
       "    }\n",
       "\n",
       "    .dataframe tbody tr th {\n",
       "        vertical-align: top;\n",
       "    }\n",
       "\n",
       "    .dataframe thead th {\n",
       "        text-align: right;\n",
       "    }\n",
       "</style>\n",
       "<table border=\"1\" class=\"dataframe\">\n",
       "  <thead>\n",
       "    <tr style=\"text-align: right;\">\n",
       "      <th></th>\n",
       "      <th>Name</th>\n",
       "      <th>Last_Name</th>\n",
       "      <th>title</th>\n",
       "      <th>category_id</th>\n",
       "      <th>Name_complete</th>\n",
       "    </tr>\n",
       "  </thead>\n",
       "  <tbody>\n",
       "    <tr>\n",
       "      <th>0</th>\n",
       "      <td>PENELOPE</td>\n",
       "      <td>GUINESS</td>\n",
       "      <td>ACADEMY DINOSAUR</td>\n",
       "      <td>6</td>\n",
       "      <td>PENELOPE GUINESS</td>\n",
       "    </tr>\n",
       "    <tr>\n",
       "      <th>1</th>\n",
       "      <td>PENELOPE</td>\n",
       "      <td>GUINESS</td>\n",
       "      <td>ANACONDA CONFESSIONS</td>\n",
       "      <td>2</td>\n",
       "      <td>PENELOPE GUINESS</td>\n",
       "    </tr>\n",
       "    <tr>\n",
       "      <th>2</th>\n",
       "      <td>PENELOPE</td>\n",
       "      <td>GUINESS</td>\n",
       "      <td>ANGELS LIFE</td>\n",
       "      <td>13</td>\n",
       "      <td>PENELOPE GUINESS</td>\n",
       "    </tr>\n",
       "    <tr>\n",
       "      <th>3</th>\n",
       "      <td>PENELOPE</td>\n",
       "      <td>GUINESS</td>\n",
       "      <td>BULWORTH COMMANDMENTS</td>\n",
       "      <td>10</td>\n",
       "      <td>PENELOPE GUINESS</td>\n",
       "    </tr>\n",
       "    <tr>\n",
       "      <th>4</th>\n",
       "      <td>PENELOPE</td>\n",
       "      <td>GUINESS</td>\n",
       "      <td>CHEAPER CLYDE</td>\n",
       "      <td>14</td>\n",
       "      <td>PENELOPE GUINESS</td>\n",
       "    </tr>\n",
       "  </tbody>\n",
       "</table>\n",
       "</div>"
      ],
      "text/plain": [
       "       Name Last_Name                  title  category_id     Name_complete\n",
       "0  PENELOPE   GUINESS       ACADEMY DINOSAUR            6  PENELOPE GUINESS\n",
       "1  PENELOPE   GUINESS   ANACONDA CONFESSIONS            2  PENELOPE GUINESS\n",
       "2  PENELOPE   GUINESS            ANGELS LIFE           13  PENELOPE GUINESS\n",
       "3  PENELOPE   GUINESS  BULWORTH COMMANDMENTS           10  PENELOPE GUINESS\n",
       "4  PENELOPE   GUINESS          CHEAPER CLYDE           14  PENELOPE GUINESS"
      ]
     },
     "execution_count": 86,
     "metadata": {},
     "output_type": "execute_result"
    }
   ],
   "source": [
    "old.head()"
   ]
  },
  {
   "cell_type": "code",
   "execution_count": 87,
   "id": "787cfe72",
   "metadata": {},
   "outputs": [],
   "source": [
    "old = old.drop(['Name', 'Last_Name'], axis=1)"
   ]
  },
  {
   "cell_type": "code",
   "execution_count": 88,
   "id": "8bc8e92a",
   "metadata": {
    "scrolled": true
   },
   "outputs": [
    {
     "data": {
      "text/html": [
       "<div>\n",
       "<style scoped>\n",
       "    .dataframe tbody tr th:only-of-type {\n",
       "        vertical-align: middle;\n",
       "    }\n",
       "\n",
       "    .dataframe tbody tr th {\n",
       "        vertical-align: top;\n",
       "    }\n",
       "\n",
       "    .dataframe thead th {\n",
       "        text-align: right;\n",
       "    }\n",
       "</style>\n",
       "<table border=\"1\" class=\"dataframe\">\n",
       "  <thead>\n",
       "    <tr style=\"text-align: right;\">\n",
       "      <th></th>\n",
       "      <th>title</th>\n",
       "      <th>category_id</th>\n",
       "      <th>Name_complete</th>\n",
       "    </tr>\n",
       "  </thead>\n",
       "  <tbody>\n",
       "    <tr>\n",
       "      <th>0</th>\n",
       "      <td>ACADEMY DINOSAUR</td>\n",
       "      <td>6</td>\n",
       "      <td>PENELOPE GUINESS</td>\n",
       "    </tr>\n",
       "    <tr>\n",
       "      <th>1</th>\n",
       "      <td>ANACONDA CONFESSIONS</td>\n",
       "      <td>2</td>\n",
       "      <td>PENELOPE GUINESS</td>\n",
       "    </tr>\n",
       "    <tr>\n",
       "      <th>2</th>\n",
       "      <td>ANGELS LIFE</td>\n",
       "      <td>13</td>\n",
       "      <td>PENELOPE GUINESS</td>\n",
       "    </tr>\n",
       "    <tr>\n",
       "      <th>3</th>\n",
       "      <td>BULWORTH COMMANDMENTS</td>\n",
       "      <td>10</td>\n",
       "      <td>PENELOPE GUINESS</td>\n",
       "    </tr>\n",
       "    <tr>\n",
       "      <th>4</th>\n",
       "      <td>CHEAPER CLYDE</td>\n",
       "      <td>14</td>\n",
       "      <td>PENELOPE GUINESS</td>\n",
       "    </tr>\n",
       "  </tbody>\n",
       "</table>\n",
       "</div>"
      ],
      "text/plain": [
       "                   title  category_id     Name_complete\n",
       "0       ACADEMY DINOSAUR            6  PENELOPE GUINESS\n",
       "1   ANACONDA CONFESSIONS            2  PENELOPE GUINESS\n",
       "2            ANGELS LIFE           13  PENELOPE GUINESS\n",
       "3  BULWORTH COMMANDMENTS           10  PENELOPE GUINESS\n",
       "4          CHEAPER CLYDE           14  PENELOPE GUINESS"
      ]
     },
     "execution_count": 88,
     "metadata": {},
     "output_type": "execute_result"
    }
   ],
   "source": [
    "old.head()"
   ]
  },
  {
   "cell_type": "code",
   "execution_count": 89,
   "id": "5964ee82",
   "metadata": {},
   "outputs": [
    {
     "data": {
      "text/plain": [
       "39"
      ]
     },
     "execution_count": 89,
     "metadata": {},
     "output_type": "execute_result"
    }
   ],
   "source": [
    "# hay duplicados en los nombres de los títulos porque más de un 'actor', está en un mismo 'Title'\n",
    "\n",
    "len(old['Name_complete'].unique())"
   ]
  },
  {
   "cell_type": "code",
   "execution_count": 90,
   "id": "c3dffcc1",
   "metadata": {},
   "outputs": [
    {
     "data": {
      "text/plain": [
       "614"
      ]
     },
     "execution_count": 90,
     "metadata": {},
     "output_type": "execute_result"
    }
   ],
   "source": [
    "len(old['title'].unique()) "
   ]
  },
  {
   "cell_type": "code",
   "execution_count": 91,
   "id": "006e05c1",
   "metadata": {},
   "outputs": [
    {
     "data": {
      "text/plain": [
       "1000"
      ]
     },
     "execution_count": 91,
     "metadata": {},
     "output_type": "execute_result"
    }
   ],
   "source": [
    "len(film_df['title'].unique())"
   ]
  },
  {
   "cell_type": "markdown",
   "id": "3e062246",
   "metadata": {},
   "source": [
    "- Le voy a poner un índice al dataframe 'old'. \n",
    "- Esto me facilitará su uso posterior en SQL "
   ]
  },
  {
   "cell_type": "code",
   "execution_count": 92,
   "id": "4cdb39ba",
   "metadata": {},
   "outputs": [],
   "source": [
    "old['old_id'] = range(1, len(old)+1)"
   ]
  },
  {
   "cell_type": "code",
   "execution_count": 93,
   "id": "772ab687",
   "metadata": {},
   "outputs": [
    {
     "data": {
      "text/html": [
       "<div>\n",
       "<style scoped>\n",
       "    .dataframe tbody tr th:only-of-type {\n",
       "        vertical-align: middle;\n",
       "    }\n",
       "\n",
       "    .dataframe tbody tr th {\n",
       "        vertical-align: top;\n",
       "    }\n",
       "\n",
       "    .dataframe thead th {\n",
       "        text-align: right;\n",
       "    }\n",
       "</style>\n",
       "<table border=\"1\" class=\"dataframe\">\n",
       "  <thead>\n",
       "    <tr style=\"text-align: right;\">\n",
       "      <th></th>\n",
       "      <th>title</th>\n",
       "      <th>category_id</th>\n",
       "      <th>Name_complete</th>\n",
       "      <th>old_id</th>\n",
       "    </tr>\n",
       "  </thead>\n",
       "  <tbody>\n",
       "    <tr>\n",
       "      <th>0</th>\n",
       "      <td>ACADEMY DINOSAUR</td>\n",
       "      <td>6</td>\n",
       "      <td>PENELOPE GUINESS</td>\n",
       "      <td>1</td>\n",
       "    </tr>\n",
       "    <tr>\n",
       "      <th>1</th>\n",
       "      <td>ANACONDA CONFESSIONS</td>\n",
       "      <td>2</td>\n",
       "      <td>PENELOPE GUINESS</td>\n",
       "      <td>2</td>\n",
       "    </tr>\n",
       "    <tr>\n",
       "      <th>2</th>\n",
       "      <td>ANGELS LIFE</td>\n",
       "      <td>13</td>\n",
       "      <td>PENELOPE GUINESS</td>\n",
       "      <td>3</td>\n",
       "    </tr>\n",
       "    <tr>\n",
       "      <th>3</th>\n",
       "      <td>BULWORTH COMMANDMENTS</td>\n",
       "      <td>10</td>\n",
       "      <td>PENELOPE GUINESS</td>\n",
       "      <td>4</td>\n",
       "    </tr>\n",
       "    <tr>\n",
       "      <th>4</th>\n",
       "      <td>CHEAPER CLYDE</td>\n",
       "      <td>14</td>\n",
       "      <td>PENELOPE GUINESS</td>\n",
       "      <td>5</td>\n",
       "    </tr>\n",
       "  </tbody>\n",
       "</table>\n",
       "</div>"
      ],
      "text/plain": [
       "                   title  category_id     Name_complete  old_id\n",
       "0       ACADEMY DINOSAUR            6  PENELOPE GUINESS       1\n",
       "1   ANACONDA CONFESSIONS            2  PENELOPE GUINESS       2\n",
       "2            ANGELS LIFE           13  PENELOPE GUINESS       3\n",
       "3  BULWORTH COMMANDMENTS           10  PENELOPE GUINESS       4\n",
       "4          CHEAPER CLYDE           14  PENELOPE GUINESS       5"
      ]
     },
     "execution_count": 93,
     "metadata": {},
     "output_type": "execute_result"
    }
   ],
   "source": [
    "old.head()"
   ]
  },
  {
   "cell_type": "code",
   "execution_count": 94,
   "id": "069dbc20",
   "metadata": {},
   "outputs": [],
   "source": [
    "column_order = ['old_id', 'Title', 'Name_complete', 'category_id']"
   ]
  },
  {
   "cell_type": "code",
   "execution_count": 95,
   "id": "2d87ee45",
   "metadata": {},
   "outputs": [],
   "source": [
    "old = old.reindex(columns=column_order)"
   ]
  },
  {
   "cell_type": "code",
   "execution_count": 96,
   "id": "354e4b31",
   "metadata": {},
   "outputs": [
    {
     "data": {
      "text/html": [
       "<div>\n",
       "<style scoped>\n",
       "    .dataframe tbody tr th:only-of-type {\n",
       "        vertical-align: middle;\n",
       "    }\n",
       "\n",
       "    .dataframe tbody tr th {\n",
       "        vertical-align: top;\n",
       "    }\n",
       "\n",
       "    .dataframe thead th {\n",
       "        text-align: right;\n",
       "    }\n",
       "</style>\n",
       "<table border=\"1\" class=\"dataframe\">\n",
       "  <thead>\n",
       "    <tr style=\"text-align: right;\">\n",
       "      <th></th>\n",
       "      <th>old_id</th>\n",
       "      <th>Title</th>\n",
       "      <th>Name_complete</th>\n",
       "      <th>category_id</th>\n",
       "    </tr>\n",
       "  </thead>\n",
       "  <tbody>\n",
       "    <tr>\n",
       "      <th>0</th>\n",
       "      <td>1</td>\n",
       "      <td>NaN</td>\n",
       "      <td>PENELOPE GUINESS</td>\n",
       "      <td>6</td>\n",
       "    </tr>\n",
       "    <tr>\n",
       "      <th>1</th>\n",
       "      <td>2</td>\n",
       "      <td>NaN</td>\n",
       "      <td>PENELOPE GUINESS</td>\n",
       "      <td>2</td>\n",
       "    </tr>\n",
       "    <tr>\n",
       "      <th>2</th>\n",
       "      <td>3</td>\n",
       "      <td>NaN</td>\n",
       "      <td>PENELOPE GUINESS</td>\n",
       "      <td>13</td>\n",
       "    </tr>\n",
       "    <tr>\n",
       "      <th>3</th>\n",
       "      <td>4</td>\n",
       "      <td>NaN</td>\n",
       "      <td>PENELOPE GUINESS</td>\n",
       "      <td>10</td>\n",
       "    </tr>\n",
       "    <tr>\n",
       "      <th>4</th>\n",
       "      <td>5</td>\n",
       "      <td>NaN</td>\n",
       "      <td>PENELOPE GUINESS</td>\n",
       "      <td>14</td>\n",
       "    </tr>\n",
       "  </tbody>\n",
       "</table>\n",
       "</div>"
      ],
      "text/plain": [
       "   old_id  Title     Name_complete  category_id\n",
       "0       1    NaN  PENELOPE GUINESS            6\n",
       "1       2    NaN  PENELOPE GUINESS            2\n",
       "2       3    NaN  PENELOPE GUINESS           13\n",
       "3       4    NaN  PENELOPE GUINESS           10\n",
       "4       5    NaN  PENELOPE GUINESS           14"
      ]
     },
     "execution_count": 96,
     "metadata": {},
     "output_type": "execute_result"
    }
   ],
   "source": [
    "old.head()"
   ]
  },
  {
   "cell_type": "code",
   "execution_count": 97,
   "id": "627a8ebb",
   "metadata": {},
   "outputs": [],
   "source": [
    "old = old.set_index('old_id')"
   ]
  },
  {
   "cell_type": "markdown",
   "id": "a2a1e9c7",
   "metadata": {},
   "source": [
    "- Añado la columna 'Actor_id' en la tabla 'old'. Esto puedo hacerlo ya que tengo un elemento común entre ambas tablas, el 'Name_complete' está en ambas columnas. "
   ]
  },
  {
   "cell_type": "code",
   "execution_count": 98,
   "id": "e1f87225",
   "metadata": {},
   "outputs": [],
   "source": [
    "# Seleccionar las columnas que deseas mantener en la tabla resultante y renombrarlas según sea necesario"
   ]
  },
  {
   "cell_type": "code",
   "execution_count": 99,
   "id": "f65071a6",
   "metadata": {},
   "outputs": [
    {
     "data": {
      "text/html": [
       "<div>\n",
       "<style scoped>\n",
       "    .dataframe tbody tr th:only-of-type {\n",
       "        vertical-align: middle;\n",
       "    }\n",
       "\n",
       "    .dataframe tbody tr th {\n",
       "        vertical-align: top;\n",
       "    }\n",
       "\n",
       "    .dataframe thead th {\n",
       "        text-align: right;\n",
       "    }\n",
       "</style>\n",
       "<table border=\"1\" class=\"dataframe\">\n",
       "  <thead>\n",
       "    <tr style=\"text-align: right;\">\n",
       "      <th></th>\n",
       "      <th>Title</th>\n",
       "      <th>Name_complete</th>\n",
       "      <th>category_id</th>\n",
       "      <th>Actor_id</th>\n",
       "    </tr>\n",
       "  </thead>\n",
       "  <tbody>\n",
       "    <tr>\n",
       "      <th>0</th>\n",
       "      <td>NaN</td>\n",
       "      <td>PENELOPE GUINESS</td>\n",
       "      <td>6</td>\n",
       "      <td>1</td>\n",
       "    </tr>\n",
       "    <tr>\n",
       "      <th>1</th>\n",
       "      <td>NaN</td>\n",
       "      <td>PENELOPE GUINESS</td>\n",
       "      <td>2</td>\n",
       "      <td>1</td>\n",
       "    </tr>\n",
       "    <tr>\n",
       "      <th>2</th>\n",
       "      <td>NaN</td>\n",
       "      <td>PENELOPE GUINESS</td>\n",
       "      <td>13</td>\n",
       "      <td>1</td>\n",
       "    </tr>\n",
       "    <tr>\n",
       "      <th>3</th>\n",
       "      <td>NaN</td>\n",
       "      <td>PENELOPE GUINESS</td>\n",
       "      <td>10</td>\n",
       "      <td>1</td>\n",
       "    </tr>\n",
       "    <tr>\n",
       "      <th>4</th>\n",
       "      <td>NaN</td>\n",
       "      <td>PENELOPE GUINESS</td>\n",
       "      <td>14</td>\n",
       "      <td>1</td>\n",
       "    </tr>\n",
       "  </tbody>\n",
       "</table>\n",
       "</div>"
      ],
      "text/plain": [
       "   Title     Name_complete  category_id  Actor_id\n",
       "0    NaN  PENELOPE GUINESS            6         1\n",
       "1    NaN  PENELOPE GUINESS            2         1\n",
       "2    NaN  PENELOPE GUINESS           13         1\n",
       "3    NaN  PENELOPE GUINESS           10         1\n",
       "4    NaN  PENELOPE GUINESS           14         1"
      ]
     },
     "execution_count": 99,
     "metadata": {},
     "output_type": "execute_result"
    }
   ],
   "source": [
    "old = old.merge(actor[['Name_complete', 'Actor_id']], on = 'Name_complete', how = 'left') \n",
    "old.head()"
   ]
  },
  {
   "cell_type": "markdown",
   "id": "1f192151",
   "metadata": {},
   "source": [
    "# Cleaning RENTAL"
   ]
  },
  {
   "cell_type": "markdown",
   "id": "3c2d2b03",
   "metadata": {},
   "source": [
    "Observamos si tiene: \n",
    " - Duplicados\n",
    " - Nulos"
   ]
  },
  {
   "cell_type": "code",
   "execution_count": 100,
   "id": "6f3eb1eb",
   "metadata": {},
   "outputs": [
    {
     "data": {
      "text/html": [
       "<div>\n",
       "<style scoped>\n",
       "    .dataframe tbody tr th:only-of-type {\n",
       "        vertical-align: middle;\n",
       "    }\n",
       "\n",
       "    .dataframe tbody tr th {\n",
       "        vertical-align: top;\n",
       "    }\n",
       "\n",
       "    .dataframe thead th {\n",
       "        text-align: right;\n",
       "    }\n",
       "</style>\n",
       "<table border=\"1\" class=\"dataframe\">\n",
       "  <thead>\n",
       "    <tr style=\"text-align: right;\">\n",
       "      <th></th>\n",
       "      <th>rental_id</th>\n",
       "      <th>rental_date</th>\n",
       "      <th>inventory_id</th>\n",
       "      <th>customer_id</th>\n",
       "      <th>return_date</th>\n",
       "      <th>staff_id</th>\n",
       "      <th>last_update</th>\n",
       "    </tr>\n",
       "  </thead>\n",
       "  <tbody>\n",
       "    <tr>\n",
       "      <th>0</th>\n",
       "      <td>1</td>\n",
       "      <td>2005-05-24 22:53:30</td>\n",
       "      <td>367</td>\n",
       "      <td>130</td>\n",
       "      <td>2005-05-26 22:04:30</td>\n",
       "      <td>1</td>\n",
       "      <td>2006-02-15 21:30:53</td>\n",
       "    </tr>\n",
       "    <tr>\n",
       "      <th>1</th>\n",
       "      <td>2</td>\n",
       "      <td>2005-05-24 22:54:33</td>\n",
       "      <td>1525</td>\n",
       "      <td>459</td>\n",
       "      <td>2005-05-28 19:40:33</td>\n",
       "      <td>1</td>\n",
       "      <td>2006-02-15 21:30:53</td>\n",
       "    </tr>\n",
       "    <tr>\n",
       "      <th>2</th>\n",
       "      <td>3</td>\n",
       "      <td>2005-05-24 23:03:39</td>\n",
       "      <td>1711</td>\n",
       "      <td>408</td>\n",
       "      <td>2005-06-01 22:12:39</td>\n",
       "      <td>1</td>\n",
       "      <td>2006-02-15 21:30:53</td>\n",
       "    </tr>\n",
       "    <tr>\n",
       "      <th>3</th>\n",
       "      <td>4</td>\n",
       "      <td>2005-05-24 23:04:41</td>\n",
       "      <td>2452</td>\n",
       "      <td>333</td>\n",
       "      <td>2005-06-03 01:43:41</td>\n",
       "      <td>2</td>\n",
       "      <td>2006-02-15 21:30:53</td>\n",
       "    </tr>\n",
       "    <tr>\n",
       "      <th>4</th>\n",
       "      <td>5</td>\n",
       "      <td>2005-05-24 23:05:21</td>\n",
       "      <td>2079</td>\n",
       "      <td>222</td>\n",
       "      <td>2005-06-02 04:33:21</td>\n",
       "      <td>1</td>\n",
       "      <td>2006-02-15 21:30:53</td>\n",
       "    </tr>\n",
       "  </tbody>\n",
       "</table>\n",
       "</div>"
      ],
      "text/plain": [
       "   rental_id          rental_date  inventory_id  customer_id  \\\n",
       "0          1  2005-05-24 22:53:30           367          130   \n",
       "1          2  2005-05-24 22:54:33          1525          459   \n",
       "2          3  2005-05-24 23:03:39          1711          408   \n",
       "3          4  2005-05-24 23:04:41          2452          333   \n",
       "4          5  2005-05-24 23:05:21          2079          222   \n",
       "\n",
       "           return_date  staff_id          last_update  \n",
       "0  2005-05-26 22:04:30         1  2006-02-15 21:30:53  \n",
       "1  2005-05-28 19:40:33         1  2006-02-15 21:30:53  \n",
       "2  2005-06-01 22:12:39         1  2006-02-15 21:30:53  \n",
       "3  2005-06-03 01:43:41         2  2006-02-15 21:30:53  \n",
       "4  2005-06-02 04:33:21         1  2006-02-15 21:30:53  "
      ]
     },
     "execution_count": 100,
     "metadata": {},
     "output_type": "execute_result"
    }
   ],
   "source": [
    "rent.head()"
   ]
  },
  {
   "cell_type": "code",
   "execution_count": 101,
   "id": "daf19bcb",
   "metadata": {},
   "outputs": [
    {
     "data": {
      "text/plain": [
       "False"
      ]
     },
     "execution_count": 101,
     "metadata": {},
     "output_type": "execute_result"
    }
   ],
   "source": [
    "rent.duplicated().any()"
   ]
  },
  {
   "cell_type": "code",
   "execution_count": 102,
   "id": "5893d925",
   "metadata": {},
   "outputs": [
    {
     "data": {
      "text/plain": [
       "rental_id       False\n",
       "rental_date     False\n",
       "inventory_id    False\n",
       "customer_id     False\n",
       "return_date     False\n",
       "staff_id        False\n",
       "last_update     False\n",
       "dtype: bool"
      ]
     },
     "execution_count": 102,
     "metadata": {},
     "output_type": "execute_result"
    }
   ],
   "source": [
    "rent.isnull().any()"
   ]
  },
  {
   "cell_type": "markdown",
   "id": "ccc1f2c6",
   "metadata": {},
   "source": [
    "- No hay nulos\n",
    "- No hay filas duplicadas."
   ]
  },
  {
   "cell_type": "code",
   "execution_count": 103,
   "id": "2518f54f",
   "metadata": {},
   "outputs": [],
   "source": [
    "rent = rent.drop(['last_update'], axis=1)"
   ]
  },
  {
   "cell_type": "code",
   "execution_count": 104,
   "id": "8e4240a4",
   "metadata": {},
   "outputs": [
    {
     "data": {
      "text/html": [
       "<div>\n",
       "<style scoped>\n",
       "    .dataframe tbody tr th:only-of-type {\n",
       "        vertical-align: middle;\n",
       "    }\n",
       "\n",
       "    .dataframe tbody tr th {\n",
       "        vertical-align: top;\n",
       "    }\n",
       "\n",
       "    .dataframe thead th {\n",
       "        text-align: right;\n",
       "    }\n",
       "</style>\n",
       "<table border=\"1\" class=\"dataframe\">\n",
       "  <thead>\n",
       "    <tr style=\"text-align: right;\">\n",
       "      <th></th>\n",
       "      <th>rental_id</th>\n",
       "      <th>rental_date</th>\n",
       "      <th>inventory_id</th>\n",
       "      <th>customer_id</th>\n",
       "      <th>return_date</th>\n",
       "      <th>staff_id</th>\n",
       "    </tr>\n",
       "  </thead>\n",
       "  <tbody>\n",
       "    <tr>\n",
       "      <th>0</th>\n",
       "      <td>1</td>\n",
       "      <td>2005-05-24 22:53:30</td>\n",
       "      <td>367</td>\n",
       "      <td>130</td>\n",
       "      <td>2005-05-26 22:04:30</td>\n",
       "      <td>1</td>\n",
       "    </tr>\n",
       "    <tr>\n",
       "      <th>1</th>\n",
       "      <td>2</td>\n",
       "      <td>2005-05-24 22:54:33</td>\n",
       "      <td>1525</td>\n",
       "      <td>459</td>\n",
       "      <td>2005-05-28 19:40:33</td>\n",
       "      <td>1</td>\n",
       "    </tr>\n",
       "    <tr>\n",
       "      <th>2</th>\n",
       "      <td>3</td>\n",
       "      <td>2005-05-24 23:03:39</td>\n",
       "      <td>1711</td>\n",
       "      <td>408</td>\n",
       "      <td>2005-06-01 22:12:39</td>\n",
       "      <td>1</td>\n",
       "    </tr>\n",
       "    <tr>\n",
       "      <th>3</th>\n",
       "      <td>4</td>\n",
       "      <td>2005-05-24 23:04:41</td>\n",
       "      <td>2452</td>\n",
       "      <td>333</td>\n",
       "      <td>2005-06-03 01:43:41</td>\n",
       "      <td>2</td>\n",
       "    </tr>\n",
       "    <tr>\n",
       "      <th>4</th>\n",
       "      <td>5</td>\n",
       "      <td>2005-05-24 23:05:21</td>\n",
       "      <td>2079</td>\n",
       "      <td>222</td>\n",
       "      <td>2005-06-02 04:33:21</td>\n",
       "      <td>1</td>\n",
       "    </tr>\n",
       "  </tbody>\n",
       "</table>\n",
       "</div>"
      ],
      "text/plain": [
       "   rental_id          rental_date  inventory_id  customer_id  \\\n",
       "0          1  2005-05-24 22:53:30           367          130   \n",
       "1          2  2005-05-24 22:54:33          1525          459   \n",
       "2          3  2005-05-24 23:03:39          1711          408   \n",
       "3          4  2005-05-24 23:04:41          2452          333   \n",
       "4          5  2005-05-24 23:05:21          2079          222   \n",
       "\n",
       "           return_date  staff_id  \n",
       "0  2005-05-26 22:04:30         1  \n",
       "1  2005-05-28 19:40:33         1  \n",
       "2  2005-06-01 22:12:39         1  \n",
       "3  2005-06-03 01:43:41         2  \n",
       "4  2005-06-02 04:33:21         1  "
      ]
     },
     "execution_count": 104,
     "metadata": {},
     "output_type": "execute_result"
    }
   ],
   "source": [
    "rent.head()"
   ]
  },
  {
   "cell_type": "code",
   "execution_count": 105,
   "id": "981da4a1",
   "metadata": {},
   "outputs": [],
   "source": [
    "column_order = ['rental_id', 'inventory_id', 'customer_id', 'staff_id', 'rental_date', 'return_date']"
   ]
  },
  {
   "cell_type": "code",
   "execution_count": 106,
   "id": "582c22e5",
   "metadata": {},
   "outputs": [],
   "source": [
    "rent = rent.reindex(columns=column_order)"
   ]
  },
  {
   "cell_type": "code",
   "execution_count": 107,
   "id": "7ece002e",
   "metadata": {},
   "outputs": [
    {
     "data": {
      "text/html": [
       "<div>\n",
       "<style scoped>\n",
       "    .dataframe tbody tr th:only-of-type {\n",
       "        vertical-align: middle;\n",
       "    }\n",
       "\n",
       "    .dataframe tbody tr th {\n",
       "        vertical-align: top;\n",
       "    }\n",
       "\n",
       "    .dataframe thead th {\n",
       "        text-align: right;\n",
       "    }\n",
       "</style>\n",
       "<table border=\"1\" class=\"dataframe\">\n",
       "  <thead>\n",
       "    <tr style=\"text-align: right;\">\n",
       "      <th></th>\n",
       "      <th>rental_id</th>\n",
       "      <th>inventory_id</th>\n",
       "      <th>customer_id</th>\n",
       "      <th>staff_id</th>\n",
       "      <th>rental_date</th>\n",
       "      <th>return_date</th>\n",
       "    </tr>\n",
       "  </thead>\n",
       "  <tbody>\n",
       "    <tr>\n",
       "      <th>0</th>\n",
       "      <td>1</td>\n",
       "      <td>367</td>\n",
       "      <td>130</td>\n",
       "      <td>1</td>\n",
       "      <td>2005-05-24 22:53:30</td>\n",
       "      <td>2005-05-26 22:04:30</td>\n",
       "    </tr>\n",
       "    <tr>\n",
       "      <th>1</th>\n",
       "      <td>2</td>\n",
       "      <td>1525</td>\n",
       "      <td>459</td>\n",
       "      <td>1</td>\n",
       "      <td>2005-05-24 22:54:33</td>\n",
       "      <td>2005-05-28 19:40:33</td>\n",
       "    </tr>\n",
       "    <tr>\n",
       "      <th>2</th>\n",
       "      <td>3</td>\n",
       "      <td>1711</td>\n",
       "      <td>408</td>\n",
       "      <td>1</td>\n",
       "      <td>2005-05-24 23:03:39</td>\n",
       "      <td>2005-06-01 22:12:39</td>\n",
       "    </tr>\n",
       "    <tr>\n",
       "      <th>3</th>\n",
       "      <td>4</td>\n",
       "      <td>2452</td>\n",
       "      <td>333</td>\n",
       "      <td>2</td>\n",
       "      <td>2005-05-24 23:04:41</td>\n",
       "      <td>2005-06-03 01:43:41</td>\n",
       "    </tr>\n",
       "    <tr>\n",
       "      <th>4</th>\n",
       "      <td>5</td>\n",
       "      <td>2079</td>\n",
       "      <td>222</td>\n",
       "      <td>1</td>\n",
       "      <td>2005-05-24 23:05:21</td>\n",
       "      <td>2005-06-02 04:33:21</td>\n",
       "    </tr>\n",
       "  </tbody>\n",
       "</table>\n",
       "</div>"
      ],
      "text/plain": [
       "   rental_id  inventory_id  customer_id  staff_id          rental_date  \\\n",
       "0          1           367          130         1  2005-05-24 22:53:30   \n",
       "1          2          1525          459         1  2005-05-24 22:54:33   \n",
       "2          3          1711          408         1  2005-05-24 23:03:39   \n",
       "3          4          2452          333         2  2005-05-24 23:04:41   \n",
       "4          5          2079          222         1  2005-05-24 23:05:21   \n",
       "\n",
       "           return_date  \n",
       "0  2005-05-26 22:04:30  \n",
       "1  2005-05-28 19:40:33  \n",
       "2  2005-06-01 22:12:39  \n",
       "3  2005-06-03 01:43:41  \n",
       "4  2005-06-02 04:33:21  "
      ]
     },
     "execution_count": 107,
     "metadata": {},
     "output_type": "execute_result"
    }
   ],
   "source": [
    "rent.head()"
   ]
  },
  {
   "cell_type": "code",
   "execution_count": 108,
   "id": "9e2e2d78",
   "metadata": {},
   "outputs": [
    {
     "data": {
      "text/plain": [
       "(1000, 6)"
      ]
     },
     "execution_count": 108,
     "metadata": {},
     "output_type": "execute_result"
    }
   ],
   "source": [
    "rent.shape"
   ]
  },
  {
   "cell_type": "code",
   "execution_count": 109,
   "id": "322fc96c",
   "metadata": {},
   "outputs": [
    {
     "data": {
      "text/plain": [
       "rental_id\n",
       "1      1\n",
       "673    1\n",
       "660    1\n",
       "661    1\n",
       "662    1\n",
       "Name: count, dtype: int64"
      ]
     },
     "execution_count": 109,
     "metadata": {},
     "output_type": "execute_result"
    }
   ],
   "source": [
    "rent.rental_id.value_counts().head()"
   ]
  },
  {
   "cell_type": "code",
   "execution_count": 110,
   "id": "7dd1ab38",
   "metadata": {},
   "outputs": [
    {
     "data": {
      "text/plain": [
       "1000"
      ]
     },
     "execution_count": 110,
     "metadata": {},
     "output_type": "execute_result"
    }
   ],
   "source": [
    "len(rent['inventory_id'].unique()) "
   ]
  },
  {
   "cell_type": "code",
   "execution_count": 111,
   "id": "b26f43da",
   "metadata": {},
   "outputs": [
    {
     "data": {
      "text/plain": [
       "1000"
      ]
     },
     "execution_count": 111,
     "metadata": {},
     "output_type": "execute_result"
    }
   ],
   "source": [
    "len(inv['inventory_id'].unique())"
   ]
  },
  {
   "cell_type": "code",
   "execution_count": 112,
   "id": "d4d9b775",
   "metadata": {},
   "outputs": [
    {
     "data": {
      "text/plain": [
       "array([367, 389, 830, 146, 727, 611, 403, 380, 330, 261,  79, 239, 517,\n",
       "       466, 470, 139, 775, 178, 535, 617, 373, 794, 749, 872,  37, 212,\n",
       "       952, 815, 399, 103, 327, 655, 811, 847, 633, 909, 288, 887, 865,\n",
       "       851, 984, 506, 190, 776, 674, 303, 102, 729, 764, 679, 651, 214,\n",
       "       511, 715, 241, 503, 131, 368,  30, 435, 207, 971, 656, 182, 661,\n",
       "       350, 314, 485, 249, 187, 593,  26, 751, 946, 141,   6, 833, 360,\n",
       "       944, 955, 910, 434, 691, 263, 145, 752, 553, 258, 461, 619, 129,\n",
       "       354, 723, 205, 597, 826,  20, 339, 802, 424,  72, 393, 184, 458,\n",
       "       601,  71, 667, 225, 234, 266, 992, 530, 487,  23, 158, 644, 928,\n",
       "        53, 375, 898,  95, 473, 377, 638, 595, 821, 599, 270, 280, 989,\n",
       "       452, 425,  58, 495, 140, 739, 126, 331, 848,  87, 797, 227, 697,\n",
       "       907, 742, 800, 635, 592, 130, 500, 372, 819, 194,  85, 267, 933,\n",
       "       242, 769, 600, 273, 581, 730, 734, 515, 687, 353, 245, 451, 533,\n",
       "        88,  39, 763, 708, 379, 609, 441, 785, 630, 186, 623, 712,  62,\n",
       "       299, 977, 536, 938, 921, 578, 363, 886, 602, 646, 387, 471, 760,\n",
       "       818, 246, 719, 901, 151, 585, 491, 647, 548, 657, 119, 443,   2,\n",
       "       407,  63, 390,  17])"
      ]
     },
     "execution_count": 112,
     "metadata": {},
     "output_type": "execute_result"
    }
   ],
   "source": [
    "# Unir los dataframes utilizando la función \"merge\"\n",
    "merged_df = pd.merge(rent, inv, on = 'inventory_id')\n",
    "\n",
    "# Obtener la lista de inventory que coinciden en ambas tablas\n",
    "common_inv_id = merged_df['inventory_id'].unique()\n",
    "common_inv_id"
   ]
  },
  {
   "cell_type": "code",
   "execution_count": 113,
   "id": "10b8bba3",
   "metadata": {},
   "outputs": [
    {
     "data": {
      "text/plain": [
       "212"
      ]
     },
     "execution_count": 113,
     "metadata": {},
     "output_type": "execute_result"
    }
   ],
   "source": [
    "len(common_inv_id)"
   ]
  },
  {
   "cell_type": "markdown",
   "id": "acd7cdbf",
   "metadata": {},
   "source": [
    "- Observamos si el número de valores únicos del 'inventory_id' que están en el inventario (tabla 'INVENTORY') coinciden con el 'inventory_id' de la tabla 'RENT'.\n",
    "\n",
    "- Podemos hacer esto porque tenemos un valor en una columna que coincide, el 'inventory_id'. "
   ]
  },
  {
   "cell_type": "markdown",
   "id": "bb6e09f4",
   "metadata": {},
   "source": [
    "- Al hacer esto vemos que en efecto hay 1000 'inventory_id' en la tabla 'INV', y 1000 'inventory_id' en la tabla 'RENT', todos ellos valores únicos. Sin embargo, los valores únicos de cada una no coindicen ya que el inventario común muestra únicamente 212 valores únicos."
   ]
  },
  {
   "cell_type": "markdown",
   "id": "213a87d1",
   "metadata": {},
   "source": [
    "**CONCLUSIÓN INVENTORY**"
   ]
  },
  {
   "cell_type": "markdown",
   "id": "ce386140",
   "metadata": {},
   "source": [
    "- Como conclusión en este caso, puede que aunque tengamos un inventory con películas que no se alquilan, y **películas que se alquilan que no están en el inventario**. \n",
    "\n",
    "- Tampoco coincidían el **número de 'FILM_ID' de la tabla 'INVENTORY' y la tabla 'FILM_DF'.**\n",
    "\n",
    "- Esto nos hace pensar que el **inventario no está completo**."
   ]
  },
  {
   "cell_type": "markdown",
   "id": "b8be9b6a",
   "metadata": {},
   "source": [
    "### Tiempo de alquiler"
   ]
  },
  {
   "cell_type": "markdown",
   "id": "936a761b",
   "metadata": {},
   "source": [
    "- Voy a limpiar las columnas de 'rental_date' y 'return_date' con el fin de crear una única columna que me informe cuántos días tarda una persona en devolver una película alquilada. "
   ]
  },
  {
   "cell_type": "code",
   "execution_count": 114,
   "id": "97104829",
   "metadata": {},
   "outputs": [
    {
     "data": {
      "text/plain": [
       "str"
      ]
     },
     "execution_count": 114,
     "metadata": {},
     "output_type": "execute_result"
    }
   ],
   "source": [
    "type('rental_date')"
   ]
  },
  {
   "cell_type": "code",
   "execution_count": 115,
   "id": "5e7c6412",
   "metadata": {},
   "outputs": [],
   "source": [
    "rent['rental_date'] = pd.to_datetime(rent['rental_date'])"
   ]
  },
  {
   "cell_type": "code",
   "execution_count": 116,
   "id": "164d737b",
   "metadata": {},
   "outputs": [],
   "source": [
    "rent['Rent_Date'] = rent['rental_date'].dt.date"
   ]
  },
  {
   "cell_type": "code",
   "execution_count": 117,
   "id": "2a119ef0",
   "metadata": {},
   "outputs": [],
   "source": [
    "rent['return_date'] = pd.to_datetime(rent['return_date'])"
   ]
  },
  {
   "cell_type": "code",
   "execution_count": 118,
   "id": "15bba483",
   "metadata": {},
   "outputs": [],
   "source": [
    "rent['Return_Date'] = rent['return_date'].dt.date"
   ]
  },
  {
   "cell_type": "code",
   "execution_count": 119,
   "id": "18174abe",
   "metadata": {},
   "outputs": [
    {
     "data": {
      "text/html": [
       "<div>\n",
       "<style scoped>\n",
       "    .dataframe tbody tr th:only-of-type {\n",
       "        vertical-align: middle;\n",
       "    }\n",
       "\n",
       "    .dataframe tbody tr th {\n",
       "        vertical-align: top;\n",
       "    }\n",
       "\n",
       "    .dataframe thead th {\n",
       "        text-align: right;\n",
       "    }\n",
       "</style>\n",
       "<table border=\"1\" class=\"dataframe\">\n",
       "  <thead>\n",
       "    <tr style=\"text-align: right;\">\n",
       "      <th></th>\n",
       "      <th>rental_id</th>\n",
       "      <th>inventory_id</th>\n",
       "      <th>customer_id</th>\n",
       "      <th>staff_id</th>\n",
       "      <th>rental_date</th>\n",
       "      <th>return_date</th>\n",
       "      <th>Rent_Date</th>\n",
       "      <th>Return_Date</th>\n",
       "    </tr>\n",
       "  </thead>\n",
       "  <tbody>\n",
       "    <tr>\n",
       "      <th>0</th>\n",
       "      <td>1</td>\n",
       "      <td>367</td>\n",
       "      <td>130</td>\n",
       "      <td>1</td>\n",
       "      <td>2005-05-24 22:53:30</td>\n",
       "      <td>2005-05-26 22:04:30</td>\n",
       "      <td>2005-05-24</td>\n",
       "      <td>2005-05-26</td>\n",
       "    </tr>\n",
       "    <tr>\n",
       "      <th>1</th>\n",
       "      <td>2</td>\n",
       "      <td>1525</td>\n",
       "      <td>459</td>\n",
       "      <td>1</td>\n",
       "      <td>2005-05-24 22:54:33</td>\n",
       "      <td>2005-05-28 19:40:33</td>\n",
       "      <td>2005-05-24</td>\n",
       "      <td>2005-05-28</td>\n",
       "    </tr>\n",
       "    <tr>\n",
       "      <th>2</th>\n",
       "      <td>3</td>\n",
       "      <td>1711</td>\n",
       "      <td>408</td>\n",
       "      <td>1</td>\n",
       "      <td>2005-05-24 23:03:39</td>\n",
       "      <td>2005-06-01 22:12:39</td>\n",
       "      <td>2005-05-24</td>\n",
       "      <td>2005-06-01</td>\n",
       "    </tr>\n",
       "    <tr>\n",
       "      <th>3</th>\n",
       "      <td>4</td>\n",
       "      <td>2452</td>\n",
       "      <td>333</td>\n",
       "      <td>2</td>\n",
       "      <td>2005-05-24 23:04:41</td>\n",
       "      <td>2005-06-03 01:43:41</td>\n",
       "      <td>2005-05-24</td>\n",
       "      <td>2005-06-03</td>\n",
       "    </tr>\n",
       "    <tr>\n",
       "      <th>4</th>\n",
       "      <td>5</td>\n",
       "      <td>2079</td>\n",
       "      <td>222</td>\n",
       "      <td>1</td>\n",
       "      <td>2005-05-24 23:05:21</td>\n",
       "      <td>2005-06-02 04:33:21</td>\n",
       "      <td>2005-05-24</td>\n",
       "      <td>2005-06-02</td>\n",
       "    </tr>\n",
       "  </tbody>\n",
       "</table>\n",
       "</div>"
      ],
      "text/plain": [
       "   rental_id  inventory_id  customer_id  staff_id         rental_date  \\\n",
       "0          1           367          130         1 2005-05-24 22:53:30   \n",
       "1          2          1525          459         1 2005-05-24 22:54:33   \n",
       "2          3          1711          408         1 2005-05-24 23:03:39   \n",
       "3          4          2452          333         2 2005-05-24 23:04:41   \n",
       "4          5          2079          222         1 2005-05-24 23:05:21   \n",
       "\n",
       "          return_date   Rent_Date Return_Date  \n",
       "0 2005-05-26 22:04:30  2005-05-24  2005-05-26  \n",
       "1 2005-05-28 19:40:33  2005-05-24  2005-05-28  \n",
       "2 2005-06-01 22:12:39  2005-05-24  2005-06-01  \n",
       "3 2005-06-03 01:43:41  2005-05-24  2005-06-03  \n",
       "4 2005-06-02 04:33:21  2005-05-24  2005-06-02  "
      ]
     },
     "execution_count": 119,
     "metadata": {},
     "output_type": "execute_result"
    }
   ],
   "source": [
    "rent.head()"
   ]
  },
  {
   "cell_type": "code",
   "execution_count": 120,
   "id": "f8857278",
   "metadata": {},
   "outputs": [],
   "source": [
    "rent['Days_rent'] = (rent['return_date'] - rent['rental_date']).dt.days"
   ]
  },
  {
   "cell_type": "code",
   "execution_count": 121,
   "id": "b838b000",
   "metadata": {},
   "outputs": [
    {
     "data": {
      "text/html": [
       "<div>\n",
       "<style scoped>\n",
       "    .dataframe tbody tr th:only-of-type {\n",
       "        vertical-align: middle;\n",
       "    }\n",
       "\n",
       "    .dataframe tbody tr th {\n",
       "        vertical-align: top;\n",
       "    }\n",
       "\n",
       "    .dataframe thead th {\n",
       "        text-align: right;\n",
       "    }\n",
       "</style>\n",
       "<table border=\"1\" class=\"dataframe\">\n",
       "  <thead>\n",
       "    <tr style=\"text-align: right;\">\n",
       "      <th></th>\n",
       "      <th>rental_id</th>\n",
       "      <th>inventory_id</th>\n",
       "      <th>customer_id</th>\n",
       "      <th>staff_id</th>\n",
       "      <th>rental_date</th>\n",
       "      <th>return_date</th>\n",
       "      <th>Rent_Date</th>\n",
       "      <th>Return_Date</th>\n",
       "      <th>Days_rent</th>\n",
       "    </tr>\n",
       "  </thead>\n",
       "  <tbody>\n",
       "    <tr>\n",
       "      <th>0</th>\n",
       "      <td>1</td>\n",
       "      <td>367</td>\n",
       "      <td>130</td>\n",
       "      <td>1</td>\n",
       "      <td>2005-05-24 22:53:30</td>\n",
       "      <td>2005-05-26 22:04:30</td>\n",
       "      <td>2005-05-24</td>\n",
       "      <td>2005-05-26</td>\n",
       "      <td>1</td>\n",
       "    </tr>\n",
       "    <tr>\n",
       "      <th>1</th>\n",
       "      <td>2</td>\n",
       "      <td>1525</td>\n",
       "      <td>459</td>\n",
       "      <td>1</td>\n",
       "      <td>2005-05-24 22:54:33</td>\n",
       "      <td>2005-05-28 19:40:33</td>\n",
       "      <td>2005-05-24</td>\n",
       "      <td>2005-05-28</td>\n",
       "      <td>3</td>\n",
       "    </tr>\n",
       "    <tr>\n",
       "      <th>2</th>\n",
       "      <td>3</td>\n",
       "      <td>1711</td>\n",
       "      <td>408</td>\n",
       "      <td>1</td>\n",
       "      <td>2005-05-24 23:03:39</td>\n",
       "      <td>2005-06-01 22:12:39</td>\n",
       "      <td>2005-05-24</td>\n",
       "      <td>2005-06-01</td>\n",
       "      <td>7</td>\n",
       "    </tr>\n",
       "    <tr>\n",
       "      <th>3</th>\n",
       "      <td>4</td>\n",
       "      <td>2452</td>\n",
       "      <td>333</td>\n",
       "      <td>2</td>\n",
       "      <td>2005-05-24 23:04:41</td>\n",
       "      <td>2005-06-03 01:43:41</td>\n",
       "      <td>2005-05-24</td>\n",
       "      <td>2005-06-03</td>\n",
       "      <td>9</td>\n",
       "    </tr>\n",
       "    <tr>\n",
       "      <th>4</th>\n",
       "      <td>5</td>\n",
       "      <td>2079</td>\n",
       "      <td>222</td>\n",
       "      <td>1</td>\n",
       "      <td>2005-05-24 23:05:21</td>\n",
       "      <td>2005-06-02 04:33:21</td>\n",
       "      <td>2005-05-24</td>\n",
       "      <td>2005-06-02</td>\n",
       "      <td>8</td>\n",
       "    </tr>\n",
       "  </tbody>\n",
       "</table>\n",
       "</div>"
      ],
      "text/plain": [
       "   rental_id  inventory_id  customer_id  staff_id         rental_date  \\\n",
       "0          1           367          130         1 2005-05-24 22:53:30   \n",
       "1          2          1525          459         1 2005-05-24 22:54:33   \n",
       "2          3          1711          408         1 2005-05-24 23:03:39   \n",
       "3          4          2452          333         2 2005-05-24 23:04:41   \n",
       "4          5          2079          222         1 2005-05-24 23:05:21   \n",
       "\n",
       "          return_date   Rent_Date Return_Date  Days_rent  \n",
       "0 2005-05-26 22:04:30  2005-05-24  2005-05-26          1  \n",
       "1 2005-05-28 19:40:33  2005-05-24  2005-05-28          3  \n",
       "2 2005-06-01 22:12:39  2005-05-24  2005-06-01          7  \n",
       "3 2005-06-03 01:43:41  2005-05-24  2005-06-03          9  \n",
       "4 2005-06-02 04:33:21  2005-05-24  2005-06-02          8  "
      ]
     },
     "execution_count": 121,
     "metadata": {},
     "output_type": "execute_result"
    }
   ],
   "source": [
    "rent.head()"
   ]
  },
  {
   "cell_type": "code",
   "execution_count": 122,
   "id": "fc73b33d",
   "metadata": {},
   "outputs": [],
   "source": [
    "# Ya no necesito las columnas anteriores de 'rental_date' y 'return_date'. Las elimino."
   ]
  },
  {
   "cell_type": "markdown",
   "id": "3dd909e4",
   "metadata": {},
   "source": [
    "- Ahora que ya he hecho la limpieza de completa de la fecha de 'rental_date' y 'return_date', entonces voy a eliminar estas dos, además de las dos que he creado para contar los días que una persona tarda en devolver una película alquilada ('Days_rent')."
   ]
  },
  {
   "cell_type": "code",
   "execution_count": 123,
   "id": "5ba80d2e",
   "metadata": {},
   "outputs": [],
   "source": [
    "rent = rent.drop(['rental_date', 'return_date', 'Rent_Date', 'Return_Date' ], axis=1)"
   ]
  },
  {
   "cell_type": "code",
   "execution_count": 124,
   "id": "305d08ef",
   "metadata": {},
   "outputs": [
    {
     "data": {
      "text/html": [
       "<div>\n",
       "<style scoped>\n",
       "    .dataframe tbody tr th:only-of-type {\n",
       "        vertical-align: middle;\n",
       "    }\n",
       "\n",
       "    .dataframe tbody tr th {\n",
       "        vertical-align: top;\n",
       "    }\n",
       "\n",
       "    .dataframe thead th {\n",
       "        text-align: right;\n",
       "    }\n",
       "</style>\n",
       "<table border=\"1\" class=\"dataframe\">\n",
       "  <thead>\n",
       "    <tr style=\"text-align: right;\">\n",
       "      <th></th>\n",
       "      <th>rental_id</th>\n",
       "      <th>inventory_id</th>\n",
       "      <th>customer_id</th>\n",
       "      <th>staff_id</th>\n",
       "      <th>Days_rent</th>\n",
       "    </tr>\n",
       "  </thead>\n",
       "  <tbody>\n",
       "    <tr>\n",
       "      <th>0</th>\n",
       "      <td>1</td>\n",
       "      <td>367</td>\n",
       "      <td>130</td>\n",
       "      <td>1</td>\n",
       "      <td>1</td>\n",
       "    </tr>\n",
       "    <tr>\n",
       "      <th>1</th>\n",
       "      <td>2</td>\n",
       "      <td>1525</td>\n",
       "      <td>459</td>\n",
       "      <td>1</td>\n",
       "      <td>3</td>\n",
       "    </tr>\n",
       "    <tr>\n",
       "      <th>2</th>\n",
       "      <td>3</td>\n",
       "      <td>1711</td>\n",
       "      <td>408</td>\n",
       "      <td>1</td>\n",
       "      <td>7</td>\n",
       "    </tr>\n",
       "    <tr>\n",
       "      <th>3</th>\n",
       "      <td>4</td>\n",
       "      <td>2452</td>\n",
       "      <td>333</td>\n",
       "      <td>2</td>\n",
       "      <td>9</td>\n",
       "    </tr>\n",
       "    <tr>\n",
       "      <th>4</th>\n",
       "      <td>5</td>\n",
       "      <td>2079</td>\n",
       "      <td>222</td>\n",
       "      <td>1</td>\n",
       "      <td>8</td>\n",
       "    </tr>\n",
       "  </tbody>\n",
       "</table>\n",
       "</div>"
      ],
      "text/plain": [
       "   rental_id  inventory_id  customer_id  staff_id  Days_rent\n",
       "0          1           367          130         1          1\n",
       "1          2          1525          459         1          3\n",
       "2          3          1711          408         1          7\n",
       "3          4          2452          333         2          9\n",
       "4          5          2079          222         1          8"
      ]
     },
     "execution_count": 124,
     "metadata": {},
     "output_type": "execute_result"
    }
   ],
   "source": [
    "rent.head()"
   ]
  },
  {
   "cell_type": "code",
   "execution_count": 125,
   "id": "5a1260df",
   "metadata": {},
   "outputs": [
    {
     "data": {
      "text/plain": [
       "Days_rent\n",
       "1    122\n",
       "8    117\n",
       "7    111\n",
       "2    110\n",
       "5    109\n",
       "3    107\n",
       "4    104\n",
       "6    100\n",
       "0     63\n",
       "9     57\n",
       "Name: count, dtype: int64"
      ]
     },
     "execution_count": 125,
     "metadata": {},
     "output_type": "execute_result"
    }
   ],
   "source": [
    "rent['Days_rent'].value_counts()"
   ]
  },
  {
   "cell_type": "markdown",
   "id": "cdefb146",
   "metadata": {},
   "source": [
    "rent = rent.merge(film_df[['rental_duration', 'film_id']], on = 'Days_rent', how = 'left')"
   ]
  },
  {
   "cell_type": "code",
   "execution_count": null,
   "id": "b59cff57",
   "metadata": {},
   "outputs": [],
   "source": []
  },
  {
   "cell_type": "code",
   "execution_count": null,
   "id": "a7a1f43f",
   "metadata": {},
   "outputs": [],
   "source": []
  },
  {
   "cell_type": "code",
   "execution_count": null,
   "id": "2c480afd",
   "metadata": {},
   "outputs": [],
   "source": []
  },
  {
   "cell_type": "code",
   "execution_count": null,
   "id": "891f5539",
   "metadata": {},
   "outputs": [],
   "source": []
  },
  {
   "cell_type": "markdown",
   "id": "399cb914",
   "metadata": {},
   "source": [
    "# CONEXIÓN A SQL Y CREACIÓN DE BBDD"
   ]
  },
  {
   "cell_type": "code",
   "execution_count": 127,
   "id": "a4b42096",
   "metadata": {},
   "outputs": [],
   "source": [
    "import mysql.connector as conn"
   ]
  },
  {
   "cell_type": "markdown",
   "id": "58d1e5b2",
   "metadata": {},
   "source": [
    "Vamos a exportar los archivos .csv limpios para comenzar con el estudio en MySQL"
   ]
  },
  {
   "cell_type": "code",
   "execution_count": 129,
   "id": "2f53f9fd",
   "metadata": {},
   "outputs": [],
   "source": [
    "#actor.to_csv('../data_clean/actor_clean.csv', index = False)"
   ]
  },
  {
   "cell_type": "code",
   "execution_count": 130,
   "id": "c0b32a6e",
   "metadata": {},
   "outputs": [],
   "source": [
    "#cat.to_csv('../data_clean/cat_clean.csv', index = False)"
   ]
  },
  {
   "cell_type": "code",
   "execution_count": 131,
   "id": "eaf8009c",
   "metadata": {},
   "outputs": [],
   "source": [
    "#film_df.to_csv('../data_clean/film_clean.csv', index = False)"
   ]
  },
  {
   "cell_type": "code",
   "execution_count": 132,
   "id": "ef62ae77",
   "metadata": {},
   "outputs": [],
   "source": [
    "#inv.to_csv('../data_clean/inv_clean.csv', index = False)"
   ]
  },
  {
   "cell_type": "code",
   "execution_count": 133,
   "id": "6d790f0f",
   "metadata": {},
   "outputs": [],
   "source": [
    "#lang.to_csv('../data_clean/lang_clean.csv', index = False)"
   ]
  },
  {
   "cell_type": "code",
   "execution_count": 137,
   "id": "f1319fa0",
   "metadata": {},
   "outputs": [],
   "source": [
    "#old.to_csv('../data_clean/old_HDD_clean.csv', index = False)"
   ]
  },
  {
   "cell_type": "code",
   "execution_count": 138,
   "id": "fd1b9404",
   "metadata": {},
   "outputs": [],
   "source": [
    "#rent.to_csv('../data_clean/rental_clean.csv', index = False)"
   ]
  },
  {
   "cell_type": "markdown",
   "id": "1d730707",
   "metadata": {},
   "source": [
    "### Observo ahora las columnas de cada uno de los DataFrame, para ver la relación final de todos estos."
   ]
  },
  {
   "cell_type": "code",
   "execution_count": null,
   "id": "b637bb85",
   "metadata": {
    "scrolled": true
   },
   "outputs": [],
   "source": [
    "actor.columns"
   ]
  },
  {
   "cell_type": "code",
   "execution_count": null,
   "id": "93602765",
   "metadata": {
    "scrolled": true
   },
   "outputs": [],
   "source": [
    "lang.columns"
   ]
  },
  {
   "cell_type": "code",
   "execution_count": null,
   "id": "6c4533dd",
   "metadata": {
    "scrolled": false
   },
   "outputs": [],
   "source": [
    "film_df.columns"
   ]
  },
  {
   "cell_type": "code",
   "execution_count": null,
   "id": "ee25e67b",
   "metadata": {},
   "outputs": [],
   "source": [
    "inv.columns"
   ]
  },
  {
   "cell_type": "code",
   "execution_count": null,
   "id": "c132f30a",
   "metadata": {},
   "outputs": [],
   "source": [
    "cat.columns"
   ]
  },
  {
   "cell_type": "code",
   "execution_count": null,
   "id": "779cac4f",
   "metadata": {},
   "outputs": [],
   "source": [
    "old.columns"
   ]
  },
  {
   "cell_type": "code",
   "execution_count": null,
   "id": "98c4ba7e",
   "metadata": {},
   "outputs": [],
   "source": [
    "rent.columns"
   ]
  }
 ],
 "metadata": {
  "kernelspec": {
   "display_name": "clase",
   "language": "python",
   "name": "clase"
  },
  "language_info": {
   "codemirror_mode": {
    "name": "ipython",
    "version": 3
   },
   "file_extension": ".py",
   "mimetype": "text/x-python",
   "name": "python",
   "nbconvert_exporter": "python",
   "pygments_lexer": "ipython3",
   "version": "3.10.13"
  }
 },
 "nbformat": 4,
 "nbformat_minor": 5
}
